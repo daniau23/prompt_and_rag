{
 "cells": [
  {
   "cell_type": "code",
   "execution_count": 89,
   "metadata": {},
   "outputs": [],
   "source": [
    "from langchain_huggingface import HuggingFaceEndpoint\n",
    "from langchain.schema import HumanMessage\n",
    "import requests\n",
    "from newspaper import Article, Config"
   ]
  },
  {
   "cell_type": "code",
   "execution_count": 136,
   "metadata": {},
   "outputs": [
    {
     "data": {
      "text/plain": [
       "True"
      ]
     },
     "execution_count": 136,
     "metadata": {},
     "output_type": "execute_result"
    }
   ],
   "source": [
    "from dotenv import load_dotenv\n",
    "import os\n",
    "\n",
    "# Provide the filename as a string\n",
    "load_dotenv('../.env')"
   ]
  },
  {
   "cell_type": "markdown",
   "metadata": {},
   "source": [
    "### **Setting up**"
   ]
  },
  {
   "cell_type": "code",
   "execution_count": 128,
   "metadata": {},
   "outputs": [
    {
     "name": "stderr",
     "output_type": "stream",
     "text": [
      "WARNING! max_length is not default parameter.\n",
      "                    max_length was transferred to model_kwargs.\n",
      "                    Please make sure that max_length is what you intended.\n"
     ]
    }
   ],
   "source": [
    "HUGGINGFACEHUB_API_TOKEN = os.getenv(\"HUGGINGFACEHUB_API_TOKEN\")\n",
    "\n",
    "repo_id = \"mistralai/Mistral-7B-Instruct-v0.3\"\n",
    "\n",
    "model_kwargs = {\n",
    "    \"max_new_tokens\": 1000, # Maximum tokens to generate\n",
    "    \"max_length\": 5000, # Maximum length of input + output\n",
    "    \"temperature\": 0.1, # Controls randomness of output\n",
    "    \"timeout\": 6000,\n",
    "    # \"task\":'conversational',\n",
    "}\n",
    "\n",
    "\n",
    "llm = HuggingFaceEndpoint(\n",
    "    repo_id=repo_id,\n",
    "    huggingfacehub_api_token = HUGGINGFACEHUB_API_TOKEN,\n",
    "    # you specify the task or not\n",
    "    # You can also specify the task in the model_kwargs or within here\n",
    "    # task = 'conversational',\n",
    "    **model_kwargs,\n",
    ")"
   ]
  },
  {
   "cell_type": "markdown",
   "metadata": {},
   "source": [
    "### **Article parser**"
   ]
  },
  {
   "cell_type": "code",
   "execution_count": null,
   "metadata": {},
   "outputs": [],
   "source": [
    "HEADERS = {\n",
    "    'User-Agent': 'Mozilla/5.0 (Windows NT 10.0; Win64; x64) AppleWebKit/537.36 (KHTML, like Gecko) Chrome/89.0.4389.82 Safari/537.36'\n",
    "}\n",
    "# article_urls = \"https://www.artificialintelligence-news.com/2022/01/25/meta-claims-new-ai-supercomputer-will-set-records/\"\n",
    "article_urls = \"https://medium.com/@danihenacho95/change-management-3dca22078605\""
   ]
  },
  {
   "cell_type": "code",
   "execution_count": 81,
   "metadata": {},
   "outputs": [],
   "source": [
    "def article_downloader(article_urls:str,headers:dict,timeout:int)-> \"Articles\":\n",
    "    session = requests.Session()\n",
    "    try:\n",
    "        response = session.get(article_urls,headers=headers,timeout=timeout)\n",
    "\n",
    "        if response.status_code == 200:\n",
    "            # Initializing an Article by itself.\n",
    "            config = Config()\n",
    "            config.MAX_TEXT = 1000000\n",
    "            article = Article(url=article_urls,config=config)\n",
    "            # Download\n",
    "            article.download()\n",
    "            # Parse it\n",
    "            article.parse()\n",
    "\n",
    "            return article\n",
    "\n",
    "        else:\n",
    "            print(f\"Failed to fetch article at {article_urls}\")\n",
    "\n",
    "    except Exception as error:\n",
    "        print(f\"Error occured while fetching at {article_urls} \\nError given: {error}\")"
   ]
  },
  {
   "cell_type": "code",
   "execution_count": null,
   "metadata": {},
   "outputs": [
    {
     "data": {
      "text/plain": [
       "{'article_urls': <class 'str'>, 'headers': <class 'dict'>, 'timeout': <class 'int'>, 'return': 'Articles'}"
      ]
     },
     "execution_count": 82,
     "metadata": {},
     "output_type": "execute_result"
    }
   ],
   "source": [
    "article_downloader.__annotations__"
   ]
  },
  {
   "cell_type": "code",
   "execution_count": 88,
   "metadata": {},
   "outputs": [
    {
     "name": "stdout",
     "output_type": "stream",
     "text": [
      "Title: Change Management\n",
      "\n",
      "Text: Change Management\n",
      "\n",
      "How change should be properly managed Daniel Chiebuka Ihenacho · Follow 4 min read · Nov 30, 2023 -- Listen Share\n",
      "\n",
      "Photo by Possessed Photography on Unsplash\n",
      "\n",
      "No project actually goes as planned, just last week something came up that influenced my scheduling and I had to adapt my timetable for just that week. Change occurs in all facets of other lives and how we manage it matters, because it influences the outcome of any project or task taken up.\n",
      "\n",
      "💡 Activity 1: Identify some areas or scenarios in which you had to adapt a change towards an desired outcome.\n",
      "\n",
      "What is Change management ?\n",
      "\n",
      "This refers to using an approach and set of processes to effectively plan, implement and control changes within a project. It also involves management of people to achieve the desired outcomes and adopt it.\n",
      "\n",
      "It’s important to recognise that it’s the people in an organisation who are directly impacted by any changes in the workplace.\n",
      "\n",
      "There several change management models and a few could be found in this links in the reference section.\n",
      "\n",
      "No matter the model used some concepts are vital to change management which are;\n",
      "\n",
      "Creating a sense of ownership and urgency: Ownership and urgency enables team members to take responsibility towards the completion of their tasks and the importance it holds towards the progression of a project. When team members and stakeholders understands this, the progression of a project no matter the problems and hurdles met allow for an easy implementation of change management models.\n",
      "\n",
      "Ownership and urgency enables team members to take responsibility towards the completion of their tasks and the importance it holds towards the progression of a project. When team members and stakeholders understands this, the progression of a project no matter the problems and hurdles met allow for an easy implementation of change management models. Effective communication : Choosing the right personnel is vital towards the project, but sometimes as the project manager, your team is selected for you which means not only your communication but soft skills would be highly needed to connect with each team member in order to keep the project running. Developing a comprehensive strategy for sharing information about the changes to all stakeholders and team members leads to transparency and openness amongst everyone.\n",
      "\n",
      "Choosing the right personnel is vital towards the project, but sometimes as the project manager, your team is selected for you which means not only your communication but soft skills would be highly needed to connect with each team member in order to keep the project running. Developing a comprehensive strategy for sharing information about the changes to all stakeholders and team members leads to transparency and openness amongst everyone. Change readiness: Assessing the organisation’s and individual’s readiness for change, including their willingness and capability to adapt gives the project manager some form of understanding towards the choice of a proper change management model and approach for the completion of any project.\n",
      "\n",
      "Assessing the organisation’s and individual’s readiness for change, including their willingness and capability to adapt gives the project manager some form of understanding towards the choice of a proper change management model and approach for the completion of any project. Stakeholders Engagement: The involvement of key stakeholders throughout the change process ensure their inputs, concerns and support is duly noted. Poor communication with stakeholders concerning the alterations of a project could lead to its failure.\n",
      "\n",
      "The involvement of key stakeholders throughout the change process ensure their inputs, concerns and support is duly noted. Poor communication with stakeholders concerning the alterations of a project could lead to its failure. Training and Development: Providing necessary training and resources helps individuals to adapt to the changes effectively. This also leads a more organised project and reduces chaos when applying a change in the project.\n",
      "\n",
      "Why and When to implement change management?\n",
      "\n",
      "Why: Change is inevitable in any project due to evolving requirements, external factors, or unforeseen circumstances. Change management ensures that these changes are implemented smoothly without negatively impacting project goals, timelines, or team morale.\n",
      "\n",
      "When: Change management should be integrated from the project’s initiation and continue throughout its lifecycle. It is crucial during major project milestones, shifts in project scope, or when adapting to external factors.\n",
      "\n",
      "Authors: ['Daniel Chiebuka Ihenacho']\n",
      "\n",
      "Source Url: https://medium.com\n",
      "\n",
      "Tags: ['Project Manager', 'Management And Leadership', 'Project Management', 'Management', 'Change Management']\n",
      "\n",
      "Publication date: 2024-02-25 17:41:50.600000+00:00\n",
      "\n"
     ]
    }
   ],
   "source": [
    "article = article_downloader(article_urls,HEADERS,20)\n",
    "print(f\"Title: {article.title}\\n\")\n",
    "print(f\"Text: {article.text}\\n\")\n",
    "print(f\"Authors: {article.authors}\\n\")\n",
    "print(f\"Source Url: {article.source_url}\\n\")\n",
    "print(f\"Tags: {list(article.tags)}\\n\")\n",
    "print(f\"Publication date: {article.publish_date}\\n\")"
   ]
  },
  {
   "cell_type": "markdown",
   "metadata": {},
   "source": [
    "### **Article Summariser**"
   ]
  },
  {
   "cell_type": "code",
   "execution_count": 131,
   "metadata": {},
   "outputs": [],
   "source": [
    "# Getting the article data from the scraping part\n",
    "article_title = article.title\n",
    "article_text = article.text\n",
    "article_tags = article.tags\n",
    "\n",
    "# Prepare template for prompt\n",
    "\n",
    "prompt_template = \"\"\"\n",
    "You are a very good article summarising assistant for any article given\n",
    "\n",
    "Here's the article you want to summarise, \n",
    "make it short and concise in the form of  bullentins (-).\n",
    "Using key areas of the article.\n",
    "================================\n",
    "Title: {article_title}\n",
    "\n",
    "article_text: \n",
    "{article_text}\n",
    "\n",
    "article_tags:\n",
    "{article_tags}\n",
    "================================\n",
    "\n",
    "\"\"\"\n",
    "\n",
    "# Does not work with HumanMessage\n",
    "# # input variables\n",
    "# prompt_template_variables = ['article_title','article_text','article_tags']\n",
    "# prompt = PromptTemplate(\n",
    "#     template=prompt_template,\n",
    "#     input_variables=prompt_template_variables\n",
    "# )\n",
    "\n",
    "# Format prompt\n",
    "prompt = prompt_template.format(article_title=article_title,\n",
    "                                article_text=article_text,\n",
    "                                article_tags=article_tags)\n",
    "messages = [HumanMessage(content=prompt)]"
   ]
  },
  {
   "cell_type": "code",
   "execution_count": 132,
   "metadata": {},
   "outputs": [
    {
     "name": "stdout",
     "output_type": "stream",
     "text": [
      "- Change Management is a process to plan, implement, and control changes within a project, involving management of people to achieve desired outcomes.\n",
      "- People in an organization are directly impacted by changes and understanding this is crucial for the progression of a project.\n",
      "- Key concepts in change management include creating a sense of ownership and urgency, effective communication, change readiness, stakeholder engagement, and training and development.\n",
      "- Change management should be integrated from the project's initiation and continue throughout its lifecycle, especially during major project milestones, shifts in project scope, or adapting to external factors.\n",
      "- Change management ensures that changes are implemented smoothly without negatively impacting project goals, timelines, or team morale.\n",
      "- Tags: Project Manager, Management And Leadership, Project Management, Management, Change Management.\n"
     ]
    }
   ],
   "source": [
    "summary = llm.invoke(messages)\n",
    "print(summary)"
   ]
  }
 ],
 "metadata": {
  "kernelspec": {
   "display_name": "Python 3",
   "language": "python",
   "name": "python3"
  },
  "language_info": {
   "codemirror_mode": {
    "name": "ipython",
    "version": 3
   },
   "file_extension": ".py",
   "mimetype": "text/x-python",
   "name": "python",
   "nbconvert_exporter": "python",
   "pygments_lexer": "ipython3",
   "version": "3.11.9"
  }
 },
 "nbformat": 4,
 "nbformat_minor": 2
}

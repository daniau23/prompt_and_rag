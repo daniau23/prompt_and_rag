{
 "cells": [
  {
   "cell_type": "code",
   "execution_count": null,
   "metadata": {},
   "outputs": [],
   "source": [
    "# HuggingFace\n",
    "from langchain_huggingface.embeddings import HuggingFaceEndpointEmbeddings\n",
    "from langchain_huggingface import HuggingFaceEndpoint\n",
    "# Prompts\n",
    "from langchain.callbacks.manager import CallbackManager\n",
    "from langchain.callbacks import StreamingStdOutCallbackHandler\n",
    "from langchain.prompts import load_prompt,\\\n",
    "    PromptTemplate, FewShotPromptTemplate\n",
    "from langchain.chains.summarize import load_summarize_chain\n",
    "from langchain.schema import HumanMessage, SystemMessage,AIMessage\n",
    "from langchain.prompts.example_selector import LengthBasedExampleSelector,\\\n",
    "    SemanticSimilarityExampleSelector\n",
    "from langchain.chains.mapreduce import MapReduceChain\n",
    "# Output parsing\n",
    "from langchain.output_parsers import PydanticOutputParser,\\\n",
    "    OutputFixingParser,CommaSeparatedListOutputParser,\\\n",
    "        RetryWithErrorOutputParser,\\\n",
    "        StructuredOutputParser,ResponseSchema\n",
    "# from pydantic import BaseModel,Field,field_validator\n",
    "from langchain.pydantic_v1 import BaseModel, Field, validator\n",
    "from typing import List,Dict\n",
    "# Scapers,Retrievers,Loaders,Splitters,Embeddings\n",
    "from langchain.chains.qa_with_sources import load_qa_with_sources_chain\n",
    "from langchain.vectorstores import DeepLake\n",
    "from langchain.chains import RetrievalQA,LLMChain,\\\n",
    "    ConversationalRetrievalChain, ConversationChain,\\\n",
    "        SimpleSequentialChain,RetrievalQAWithSourcesChain\n",
    "from langchain.chains.base import Chain\n",
    "from langchain.document_loaders import TextLoader\n",
    "from langchain.text_splitter import RecursiveCharacterTextSplitter,\\\n",
    "    CharacterTextSplitter,NLTKTextSplitter,SpacyTextSplitter,\\\n",
    "    MarkdownTextSplitter,TokenTextSplitter,Language\n",
    "from langchain.retrievers import ContextualCompressionRetriever\n",
    "from langchain.document_loaders import PyPDFLoader, SeleniumURLLoader,\\\n",
    "    GoogleDriveLoader\n",
    "from langchain.retrievers.document_compressors import LLMChainExtractor,\\\n",
    "    LLMChainFilter,EmbeddingsFilter\n",
    "from langchain.retrievers.document_compressors import DocumentCompressorPipeline\n",
    "from langchain_community.document_transformers import EmbeddingsRedundantFilter\n",
    "from langchain.docstore.document import Document\n",
    "from langchain_cohere import CohereEmbeddings\n",
    "# ConstitutionalAI\n",
    "from langchain.chains.constitutional_ai.base import ConstitutionalChain\n",
    "from langchain.chains.constitutional_ai.models import ConstitutionalPrinciple\n",
    "# Conversation, Chat & Memory\n",
    "from langchain.prompts.chat import ChatPromptTemplate,\\\n",
    "    SystemMessagePromptTemplate,\\\n",
    "        AIMessagePromptTemplate,HumanMessagePromptTemplate,\\\n",
    "        MessagesPlaceholder\n",
    "from langchain import ConversationChain\n",
    "from  langchain.memory import ConversationBufferMemory,\\\n",
    "    ConversationSummaryBufferMemory, ConversationSummaryMemory,\\\n",
    "    ConversationBufferWindowMemory\n",
    "# Agents and Tools\n",
    "from langchain.agents import tool # this is a decorator\n",
    "from langchain import hub\n",
    "from langchain.agents import AgentType,initialize_agent,\\\n",
    "    load_tools, Tool,\\\n",
    "        AgentExecutor,\\\n",
    "        create_json_agent,create_react_agent,create_structured_chat_agent\n",
    "from langchain_google_community import GoogleSearchAPIWrapper\n",
    "from langchain.tools import DuckDuckGoSearchRun,DuckDuckGoSearchResults\n",
    "from langchain_community.utilities.duckduckgo_search import DuckDuckGoSearchAPIWrapper\n",
    "from langchain_experimental.utilities import PythonREPL\n",
    "from langchain.utilities.wolfram_alpha import WolframAlphaAPIWrapper\n",
    "from langchain.vectorstores import FAISS\n",
    "from langchain.docstore import InMemoryDocstore\n",
    "from langchain_experimental.autonomous_agents import BabyAGI, AutoGPT\n",
    "from langchain.tools.file_management import WriteFileTool,ReadFileTool\n",
    "from langchain_experimental.plan_and_execute import PlanAndExecute, load_agent_executor, load_chat_planner\n",
    "import faiss\n",
    "# Others\n",
    "from newspaper import Article, Config\n",
    "from PIL import Image\n",
    "from sklearn.metrics.pairwise import cosine_similarity\n",
    "from bs4 import BeautifulSoup\n",
    "from elevenlabs.client import ElevenLabs\n",
    "from streamlit_chat import message\n",
    "from audio_recorder_streamlit import audio_recorder\n",
    "import streamlit as st\n",
    "import cohere\n",
    "import pandas as pd\n",
    "import numpy as np \n",
    "import matplotlib.pyplot as plt\n",
    "import plotly.express as px\n",
    "import plotly.graph_objects as go\n",
    "import plotly.figure_factory as ff\n",
    "import seaborn as sns\n",
    "import json\n",
    "import requests\n",
    "import os\n",
    "import json\n",
    "import yaml\n",
    "import yt_dlp\n",
    "import whisper\n",
    "import textwrap\n",
    "import re\n",
    "import tiktoken\n",
    "import time\n",
    "# import spacy\n",
    "# spacy.load('en_core_web_sm')\n",
    "# warnings.filterwarnings(\"ignore\")"
   ]
  },
  {
   "cell_type": "code",
   "execution_count": 2,
   "metadata": {},
   "outputs": [
    {
     "data": {
      "text/plain": [
       "True"
      ]
     },
     "execution_count": 2,
     "metadata": {},
     "output_type": "execute_result"
    }
   ],
   "source": [
    "from dotenv import load_dotenv\n",
    "\n",
    "# Provide the filename as a string\n",
    "load_dotenv('../.env')"
   ]
  },
  {
   "cell_type": "code",
   "execution_count": null,
   "metadata": {},
   "outputs": [],
   "source": [
    "HUGGINGFACEHUB_API_TOKEN = os.getenv(\"HUGGINGFACEHUB_API_TOKEN\")\n",
    "\n",
    "repo_id = \"mistralai/Mistral-7B-Instruct-v0.3\"\n",
    "\n",
    "model_kwargs = {\n",
    "    \"max_new_tokens\": 1000, # Maximum tokens to generate\n",
    "    \"max_length\": 3000, # Maximum length of input + output\n",
    "    \"temperature\": 0.1, # Controls randomness of output\n",
    "    \"timeout\": 6000,\n",
    "    # \"task\":'conversational',\n",
    "}\n",
    "\n",
    "\n",
    "llm = HuggingFaceEndpoint(\n",
    "    repo_id=repo_id,\n",
    "    huggingfacehub_api_token = HUGGINGFACEHUB_API_TOKEN,\n",
    "    # you specify the task or not\n",
    "    # You can also specify the task in the model_kwargs or within here\n",
    "    # task = 'conversational',\n",
    "    **model_kwargs,\n",
    ")"
   ]
  },
  {
   "cell_type": "code",
   "execution_count": 4,
   "metadata": {},
   "outputs": [
    {
     "name": "stdout",
     "output_type": "stream",
     "text": [
      "File path is okay!\n"
     ]
    }
   ],
   "source": [
    "desktop = os.path.expanduser(\"~\\Desktop\")\n",
    "llmai = os.path.join(desktop,\"llmai\")\n",
    "llm = os.path.join(llmai,\"llms\")\n",
    "projects = os.path.join(llm,\"my_llm_projects\")\n",
    "resources = os.path.join(projects,\"resources\")\n",
    "pdf_book = os.path.join(resources,\"deepak-chopra-the-7-laws-of-success.pdf\")\n",
    "\n",
    "if  os.path.exists(pdf_book):\n",
    "    print(\"File path is okay!\")\n",
    "else:\n",
    "    raise ValueError(f\"The file at path {pdf_book} does not exist.\")"
   ]
  },
  {
   "cell_type": "markdown",
   "metadata": {},
   "source": [
    "### **Character Text Splitter**"
   ]
  },
  {
   "cell_type": "markdown",
   "metadata": {},
   "source": [
    "PyPDFLoader and CharacterTextSplitter are somewhat the same"
   ]
  },
  {
   "cell_type": "code",
   "execution_count": 32,
   "metadata": {},
   "outputs": [],
   "source": [
    "loader = PyPDFLoader(pdf_book)\n",
    "pages = loader.load_and_split()"
   ]
  },
  {
   "cell_type": "code",
   "execution_count": 44,
   "metadata": {},
   "outputs": [
    {
     "name": "stdout",
     "output_type": "stream",
     "text": [
      "43\n",
      "dict_keys(['page_content', 'metadata', 'type'])\n",
      "INTRODUCTION\n",
      "Although this book is titled The Seven Spiritual Laws of Success,  it could also be called The\n",
      "Seven Spiritual Laws of Life,  because these are the same principles that nature uses to create\n",
      "everything in material existence  everything we can see, hear, smell, taste, or touch.\n",
      "In my book, Creating Affluence: Wealth Consciousness in the Field of All Possibilities,  I\n",
      "have outlined the steps to wealth consciousness based on a true understanding of the workingsof nature. The Seven Spiritual Laws of  Success form the essence of this teaching. When this\n",
      "knowledge is incorporated in your consciousness, it will give you the ability to create unlimited\n",
      "wealth with effortless ease, and to experience success in every endeavour.\n",
      "Success in life could be defined as the continued expansion of happiness and the progres-\n",
      "sive realization of worthy goals. Success is the ability to fulfill your desires with effortless ease.And yet success, including the creation of wealth, has always been considered to be a process\n",
      "that requires hard work, and it is often considered to be at the expense of others. We need a\n",
      "more spiritual approach to success and to affluence, which is the abundant flow of all goodthings to you. With the knowledge and practice of spiritual law, we put ourselves in harmonywith nature and create with carefulness, joy, and love.\n",
      "There are many aspects to success; material wealth is only one component. Moreover,\n",
      "success is a journey, not a destination. Material abundance, in all its expressions, happens to be\n",
      "one of those things that makes the journey more enjoyable. But success also includes goodhealth, energy and enthusiasm for life, fulfilling relationships, creative freedom, emotional andpsychological stability, a sense of well-being, and peace of mind.\n",
      "Even with the experience of all these things, we will remain unfulfilled unless we nurture the\n",
      "seeds of divinity inside us. In reality, we are divinity in disguise, and the gods and goddesses in\n",
      "embryo that are contained within us seek to be fully materialized. True success is therefore the\n",
      "experience of the miraculous. It is the unfolding of the divinity within us. It is the perception ofdivinity wherever we go, in whatever we perceive  in the eyes of a child, in the beauty of aflower, in the flight of a bird. When we begin to experience our life as the miraculous expressionof divinity  not occasionally, but all the time  then we will know the true meaning of success.\n",
      "Before defining the seven spiritual laws, let us understand the concept of law. Law is the\n",
      "process by which the unmanifest becomes the manifest; its the process by which the observerbecomes the observed; its the process by which the seer becomes the scenery; its the processthrough which the dreamer manifests the dream.\n",
      "All of creation, everything that exists in the physical world, is the result of the unmanifest\n",
      "transforming itself into the manifest. Everything that we behold comes from the unknown. Our\n",
      "physical body, the physical universe  anything and everything that we can perceive throughour senses  is the transformation of the unmanifest, unknown, and invisible into the manifest,known, and visible.\n",
      "The physical universe is nothing other than the Self curving back within Itself to experience\n",
      "Itself as spirit, mind, and physical matter. In other words, all processes of creation are processes\n",
      "through which the Self or divinity expresses Itself. Consciousness in motion expresses itself asthe objects of the universe in the eternal dance of life.\n",
      "The source of all creation is divinity (or the spirit); the process of creation is divinity in\n",
      "motion (or the mind); and the object of creation is the physical universe (which includes the\n",
      "physical body).\n",
      "dict_keys(['source', 'page'])\n",
      "3\n",
      "Document\n"
     ]
    }
   ],
   "source": [
    "# print(pages)\n",
    "print(len(pages))\n",
    "print(pages[3].dict().keys())\n",
    "print(pages[3].page_content)\n",
    "print(pages[3].metadata.keys())\n",
    "# print(pages[3].metadata['source'])\n",
    "print(pages[3].metadata['page'])\n",
    "print(pages[3].type)"
   ]
  },
  {
   "cell_type": "code",
   "execution_count": 34,
   "metadata": {},
   "outputs": [],
   "source": [
    "text_splitter = CharacterTextSplitter(chunk_size=1000,chunk_overlap=100)\n",
    "texts = text_splitter.split_documents(pages)"
   ]
  },
  {
   "cell_type": "code",
   "execution_count": 45,
   "metadata": {},
   "outputs": [
    {
     "name": "stdout",
     "output_type": "stream",
     "text": [
      "43\n",
      "dict_keys(['page_content', 'metadata', 'type'])\n",
      "INTRODUCTION\n",
      "Although this book is titled The Seven Spiritual Laws of Success,  it could also be called The\n",
      "Seven Spiritual Laws of Life,  because these are the same principles that nature uses to create\n",
      "everything in material existence  everything we can see, hear, smell, taste, or touch.\n",
      "In my book, Creating Affluence: Wealth Consciousness in the Field of All Possibilities,  I\n",
      "have outlined the steps to wealth consciousness based on a true understanding of the workingsof nature. The Seven Spiritual Laws of  Success form the essence of this teaching. When this\n",
      "knowledge is incorporated in your consciousness, it will give you the ability to create unlimited\n",
      "wealth with effortless ease, and to experience success in every endeavour.\n",
      "Success in life could be defined as the continued expansion of happiness and the progres-\n",
      "sive realization of worthy goals. Success is the ability to fulfill your desires with effortless ease.And yet success, including the creation of wealth, has always been considered to be a process\n",
      "that requires hard work, and it is often considered to be at the expense of others. We need a\n",
      "more spiritual approach to success and to affluence, which is the abundant flow of all goodthings to you. With the knowledge and practice of spiritual law, we put ourselves in harmonywith nature and create with carefulness, joy, and love.\n",
      "There are many aspects to success; material wealth is only one component. Moreover,\n",
      "success is a journey, not a destination. Material abundance, in all its expressions, happens to be\n",
      "one of those things that makes the journey more enjoyable. But success also includes goodhealth, energy and enthusiasm for life, fulfilling relationships, creative freedom, emotional andpsychological stability, a sense of well-being, and peace of mind.\n",
      "Even with the experience of all these things, we will remain unfulfilled unless we nurture the\n",
      "seeds of divinity inside us. In reality, we are divinity in disguise, and the gods and goddesses in\n",
      "embryo that are contained within us seek to be fully materialized. True success is therefore the\n",
      "experience of the miraculous. It is the unfolding of the divinity within us. It is the perception ofdivinity wherever we go, in whatever we perceive  in the eyes of a child, in the beauty of aflower, in the flight of a bird. When we begin to experience our life as the miraculous expressionof divinity  not occasionally, but all the time  then we will know the true meaning of success.\n",
      "Before defining the seven spiritual laws, let us understand the concept of law. Law is the\n",
      "process by which the unmanifest becomes the manifest; its the process by which the observerbecomes the observed; its the process by which the seer becomes the scenery; its the processthrough which the dreamer manifests the dream.\n",
      "All of creation, everything that exists in the physical world, is the result of the unmanifest\n",
      "transforming itself into the manifest. Everything that we behold comes from the unknown. Our\n",
      "physical body, the physical universe  anything and everything that we can perceive throughour senses  is the transformation of the unmanifest, unknown, and invisible into the manifest,known, and visible.\n",
      "The physical universe is nothing other than the Self curving back within Itself to experience\n",
      "Itself as spirit, mind, and physical matter. In other words, all processes of creation are processes\n",
      "through which the Self or divinity expresses Itself. Consciousness in motion expresses itself asthe objects of the universe in the eternal dance of life.\n",
      "The source of all creation is divinity (or the spirit); the process of creation is divinity in\n",
      "motion (or the mind); and the object of creation is the physical universe (which includes the\n",
      "physical body).\n",
      "dict_keys(['source', 'page'])\n",
      "3\n",
      "Document\n"
     ]
    }
   ],
   "source": [
    "# print(texts)\n",
    "print(len(texts))\n",
    "print(texts[3].dict().keys())\n",
    "print(texts[3].page_content)\n",
    "print(texts[3].metadata.keys())\n",
    "# print(texts[3].metadata['source'])\n",
    "print(texts[3].metadata['page'])\n",
    "print(texts[3].type)"
   ]
  },
  {
   "cell_type": "markdown",
   "metadata": {},
   "source": [
    "### **Recursive Character Text Splitter**"
   ]
  },
  {
   "cell_type": "code",
   "execution_count": 36,
   "metadata": {},
   "outputs": [],
   "source": [
    "recursive_text_splitter = RecursiveCharacterTextSplitter(\n",
    "                chunk_size=1000,\n",
    "                chunk_overlap=100)\n",
    "recursive_texts = recursive_text_splitter.split_documents(pages)"
   ]
  },
  {
   "cell_type": "code",
   "execution_count": 46,
   "metadata": {},
   "outputs": [
    {
     "name": "stdout",
     "output_type": "stream",
     "text": [
      "132\n",
      "dict_keys(['page_content', 'metadata', 'type'])\n",
      "ACKNOWLEDGMENTS\n",
      "I would like to express my love and gratitude to the following people:\n",
      "Janet Mills for lovingly nurturing this book from conception to completion.\n",
      "Rita Chopra, Mallika Chopra, and Gautama Chopra for being the living expression of The\n",
      "Seven Spiritual Laws.\n",
      "Ray Chambers, Gayle Rose, Adrianna Nienow, David Simon, George Harrison, Olivia\n",
      "Harrison, Naomi Judd, Demi Moore, and Alice Walton for their courage and commitment to a\n",
      "vision that is awesome, inspiring, lofty, noble, and life-transforming.\n",
      "Roger Gabriel, Brent Becvar, Rose Bueno-Mur-phy, and all my staff at the Sharp Center\n",
      "for MindBody Medicine for being inspiring examples to all our guests and patients.\n",
      "Deepak Singh, Geeta Singh, and all my staff at Quantum Publications for their unflagging\n",
      "energy and dedication.\n",
      "Muriel Nellis for her unflinching intention to maintain the highest level of integrity in all our\n",
      "endeavors.\n",
      "dict_keys(['source', 'page'])\n",
      "2\n",
      "Document\n"
     ]
    }
   ],
   "source": [
    "# print(recursive_texts)\n",
    "print(len(recursive_texts))\n",
    "print(recursive_texts[3].dict().keys())\n",
    "print(recursive_texts[3].page_content)\n",
    "print(recursive_texts[3].metadata.keys())\n",
    "# print(recursive_texts[3].metadata['source'])\n",
    "print(recursive_texts[3].metadata['page'])\n",
    "print(recursive_texts[3].type)"
   ]
  },
  {
   "cell_type": "code",
   "execution_count": 47,
   "metadata": {},
   "outputs": [
    {
     "name": "stdout",
     "output_type": "stream",
     "text": [
      "endeavors.\n",
      "Richard Peri for being such a great example of self-referral.Arielle Ford for her unshakable faith in self-knowledge and her infectious enthusiasm and\n",
      "commitment to transform the lives of so many people.\n",
      "And Bill Elkus for his understanding and friendship.\n"
     ]
    }
   ],
   "source": [
    "print(recursive_texts[4].page_content)"
   ]
  },
  {
   "cell_type": "markdown",
   "metadata": {},
   "source": [
    "### **NLTK Text Splitter**"
   ]
  },
  {
   "cell_type": "code",
   "execution_count": 40,
   "metadata": {},
   "outputs": [
    {
     "name": "stdout",
     "output_type": "stream",
     "text": [
      "File path is okay!\n"
     ]
    }
   ],
   "source": [
    "desktop = os.path.expanduser(\"~\\Desktop\")\n",
    "llmai = os.path.join(desktop,\"llmai\")\n",
    "llm = os.path.join(llmai,\"llms\")\n",
    "projects = os.path.join(llm,\"my_llm_projects\")\n",
    "resources = os.path.join(projects,\"resources\")\n",
    "text_source = os.path.join(resources,\"my_medium_articles.txt\")\n",
    "\n",
    "if  os.path.exists(text_source):\n",
    "    print(\"File path is okay!\")\n",
    "else:\n",
    "    raise ValueError(f\"The file at path {text_source} does not exist.\")"
   ]
  },
  {
   "cell_type": "code",
   "execution_count": 57,
   "metadata": {},
   "outputs": [],
   "source": [
    "nltk_text_splitter = NLTKTextSplitter(chunk_size=1000, chunk_overlap=100)\n",
    "with open(text_source) as my_file_reader:\n",
    "    my_file = my_file_reader.read()\n",
    "nltk_texts = nltk_text_splitter.split_text(my_file)"
   ]
  },
  {
   "cell_type": "code",
   "execution_count": 64,
   "metadata": {},
   "outputs": [
    {
     "name": "stdout",
     "output_type": "stream",
     "text": [
      "['Title:Recurrent Neural Network, LSTM and Bidirectional LSTM\\nArticle:\\nPhoto by Gülfer ERGİN on Unsplash\\n\\nRecurrent Neural Network, LSTM and Bidirectional LSTM Daniel Chiebuka Ihenacho · Follow 4 min read · Jan 5, 2023 -- Listen Share\\n\\nRecent innovations in Natural Language Processing have focused on how the context of words can be properly captured in their vector representations.\\n\\nTraditional neural networks cannot do this with high accuracy and for this reason Recurrent neural networks have been developed to address this issue due to the following;\\n\\nUse of sequential information.\\n\\nPresence of memory\\n\\nThe above diagram is a Rolled RNN, where;\\n\\nA is the Rolled neural network\\n\\nis the Rolled neural network xₜ is a given input\\n\\nis a given input hₜ is the output.\\n\\nis the output.\\n\\nThe loop allows information to be passed onto the next step of the network.', 'is the output.\\n\\nThe loop allows information to be passed onto the next step of the network.\\n\\nThe diagram shows the unrolled RNN network\\n\\nThe unrolled RNN is nothing more than multiple copies of the same network, passing information to the next successor.\\n\\nIt is because of this chain-like nature of RNN that it can be used for sequential data, a good example of this predicting the next word of a sentence; “The sky is blue”, the word predicted is blue.\\n\\nBut what if the context gap between relevant information and point of need is quite large, for example; “Daniel loves apples, it makes him healthy,…..,it is a […..]”.\\n\\nFrom the given sentence, the network would depend on the context given in the sentence to make a prediction that the final word will be fruit, based off the previous inputs.\\n\\nBut due to this gap, RNNs are unable to learn how to make a connection between the relevant information and the point of need.', 'As the gap grows, RNN fails\\n\\nRNN Use Case (image by author)\\n\\nLSTM(Long Short Term Memory)\\n\\nThis is a variation of RNN which solves the issue encountered in regular RNN (gap growth).\\n\\nLSTMs generally have three gates namely; input gate, forget gate & output gate.\\n\\nBecause of this architecture, LSTM is able to solve the vanishing gradient problem encountered by RNNs which leads to difficulty learning from any given data with each successive iteration and is capable of learning long-term dependencies.\\n\\nTake for example, “Daniel loves apples, it makes him healthy,…..,it is a […..]”,from the given sentence, the network is able to make a successfully prediction that the final word should be fruit, based off the previous inputs due to the preservation of information.\\n\\nLSTM Use Case (image by author)\\n\\nLSTM can also be used to solve a variety of problems such as;\\n\\nTime series forecasting.\\n\\nSpeech recognition\\n\\nVideo analysis.', 'Speech recognition\\n\\nVideo analysis.\\n\\nBidirectional LSTM or BiLSTM\\n\\nThis processes the sequence of information in both directions; forward (left to right/past to future) and backwards (right to left/future to past).\\n\\nThis is not backward propagation\\n\\nWith regular LSTM input flow can only be processed in one direction, either forward or backwards but fails to fully preserve the information from both directions, but in bidirectional LSTM both past and future information is preserved due to its ability to learn the relationship between future and past words.\\n\\nFor example, “Daniel goes to the […..], because he is always sick.”, because of the future sentence, “because he is always sick”, the blank space can easily be predicted as hospital by the BiLSTM model because it has learned the relationship between the future and past words thereby giving more meaning.\\n\\nBiLSTMs are usually made use of where there are needs for sequence-to-sequence tasks.', 'BiLSTMs are usually made use of where there are needs for sequence-to-sequence tasks.\\n\\nThis kind of network can also be used in\\n\\nText classification\\n\\nSpeech recognition\\n\\nForecasting models.\\n\\nReferences\\n\\n[1] S. Hochreiter, J. Schmidhuber, Long Short-Term Memory (1997), Neural Computation\\n\\n[2] http://colah.github.io/posts/2015-08-Understanding-LSTMs/\\n\\n[3] https://medium.com/@raghavaggarwal0089/bi-lstm-bc3d68da8bd0\\n\\n[4] https://www.youtube.com/watch?v=YCzL96nL7j0\\n\\n[5] https://www.youtube.com/watch?v=atYPhweJ7ao\\n\\n\\n\\n\\nTitle:Project Initiation\\nArticle:\\nProject initiation phase components\\n\\nLet’s discuss some components of the initiation phase;\\n\\nProject goal: This is simply the overall purpose of the project which aims towards achieving a desired outcome of the project.\\n\\nProject scope: This is involves the definition of work that needs to be done to complete the project.\\n\\nUsually the project scope lays out the series of steps required for the completion of the project.', 'Usually the project scope lays out the series of steps required for the completion of the project.\\n\\nProject deliverables: These are tangible outcomes, results, or outputs that are produced as a result of completing specific project milestones.\\n\\nSuccess criteria: Success criteria in project management are specific and measurable conditions or outcomes that indicate the successful achievement of project goals and objectives.\\n\\nStakeholders: These are people who have an interest in the project, are affected by the project and also influence the project.\\n\\nResources: The involves things such as budget, people and materials needed for the successful completion of a project.', 'Title:Change Management\\nArticle:\\nChange Management\\n\\nHow change should be properly managed Daniel Chiebuka Ihenacho · Follow 4 min read · Nov 30, 2023 -- Listen Share\\n\\nPhoto by Possessed Photography on Unsplash\\n\\nNo project actually goes as planned, just last week something came up that influenced my scheduling and I had to adapt my timetable for just that week.\\n\\nChange occurs in all facets of other lives and how we manage it matters, because it influences the outcome of any project or task taken up.\\n\\n💡 Activity 1: Identify some areas or scenarios in which you had to adapt a change towards an desired outcome.\\n\\nWhat is Change management ?\\n\\nThis refers to using an approach and set of processes to effectively plan, implement and control changes within a project.\\n\\nIt also involves management of people to achieve the desired outcomes and adopt it.\\n\\nIt’s important to recognise that it’s the people in an organisation who are directly impacted by any changes in the workplace.', 'There several change management models and a few could be found in this links in the reference section.\\n\\nNo matter the model used some concepts are vital to change management which are;\\n\\nCreating a sense of ownership and urgency: Ownership and urgency enables team members to take responsibility towards the completion of their tasks and the importance it holds towards the progression of a project.\\n\\nWhen team members and stakeholders understands this, the progression of a project no matter the problems and hurdles met allow for an easy implementation of change management models.\\n\\nOwnership and urgency enables team members to take responsibility towards the completion of their tasks and the importance it holds towards the progression of a project.\\n\\nWhen team members and stakeholders understands this, the progression of a project no matter the problems and hurdles met allow for an easy implementation of change management models.', 'Effective communication : Choosing the right personnel is vital towards the project, but sometimes as the project manager, your team is selected for you which means not only your communication but soft skills would be highly needed to connect with each team member in order to keep the project running.\\n\\nDeveloping a comprehensive strategy for sharing information about the changes to all stakeholders and team members leads to transparency and openness amongst everyone.\\n\\nChoosing the right personnel is vital towards the project, but sometimes as the project manager, your team is selected for you which means not only your communication but soft skills would be highly needed to connect with each team member in order to keep the project running.\\n\\nDeveloping a comprehensive strategy for sharing information about the changes to all stakeholders and team members leads to transparency and openness amongst everyone.', 'Change readiness: Assessing the organisation’s and individual’s readiness for change, including their willingness and capability to adapt gives the project manager some form of understanding towards the choice of a proper change management model and approach for the completion of any project.\\n\\nAssessing the organisation’s and individual’s readiness for change, including their willingness and capability to adapt gives the project manager some form of understanding towards the choice of a proper change management model and approach for the completion of any project.\\n\\nStakeholders Engagement: The involvement of key stakeholders throughout the change process ensure their inputs, concerns and support is duly noted.\\n\\nPoor communication with stakeholders concerning the alterations of a project could lead to its failure.\\n\\nThe involvement of key stakeholders throughout the change process ensure their inputs, concerns and support is duly noted.', 'Poor communication with stakeholders concerning the alterations of a project could lead to its failure.\\n\\nTraining and Development: Providing necessary training and resources helps individuals to adapt to the changes effectively.\\n\\nThis also leads a more organised project and reduces chaos when applying a change in the project.\\n\\nWhy and When to implement change management?\\n\\nWhy: Change is inevitable in any project due to evolving requirements, external factors, or unforeseen circumstances.\\n\\nChange management ensures that these changes are implemented smoothly without negatively impacting project goals, timelines, or team morale.\\n\\nWhen: Change management should be integrated from the project’s initiation and continue throughout its lifecycle.\\n\\nIt is crucial during major project milestones, shifts in project scope, or when adapting to external factors.\\n\\nTitle:Project life cycle\\nArticle:\\nWhat is project management methodology?', 'Title:Project life cycle\\nArticle:\\nWhat is project management methodology?\\n\\nHaving established that not all projects are the same, there is a need to have a predefined set of methods in place for the successful completion of a project.\\n\\nThis is where project management methodology comes in.\\n\\nProject management methodology is a set of guiding principles, techniques and processes used through a project’s life cycle.\\n\\nIt essentially guides project managers with knowing which framework works best for a given project at hand.\\n\\nProjects could be linear or iterative.\\n\\nLinear projects means a project is executed in a sequential order.\\n\\nExamples are; the construction of a house, Highway, pipeline and tunnels construction, these kind of projects benefits from the use of the Waterfall methodology as its dictates a linear approach in project execution.\\n\\nIt is also referred to as the waterfall cycle because the stages have a distinct progressive flow.', 'It is also referred to as the waterfall cycle because the stages have a distinct progressive flow.\\n\\nIterative projects permits more flexibility and change management.\\n\\nIt follows the repetition of phases thereby allowing parts of the project to be tested out to ensure correctness level is achieved before the final result is delivered.\\n\\nParts of the project can be delivered as they are completed, rather than waiting for the entire project to be done.\\n\\nIt is also known as the agile cycle due to its ability to break down activities into short phases that derive value.\\n\\nOther project types are;\\n\\nHybrid\\n\\nIncremental\\n\\nEvolutionary\\n\\nThere several project methodologies and I would briefly discuss the following below, but please refer to the references for more methodologies;\\n\\nWaterfall: In the application of this approach, project managers connect each task to the previous one with a dependency.', 'This means that teams cannot proceed to the next phase of work until they have successfully addressed the tasks at hand.\\n\\nSuch a method encourages collaboration and ensures that the team remains focused on the current task.\\n\\nA project manager might opt for the Waterfall approach under the following circumstances:\\n\\nWhen implementing changes to the project becomes costly once initiated.\\n\\nWhen the project’s phases are well-defined from the outset.\\n\\nWhen there are prerequisite tasks that must be completed before progressing to the next stage.\\n\\n2.\\n\\nAgile: The Agile methodology stands out as one of the widely adopted project management frameworks, even surpassing the popularity of Waterfall.\\n\\nAgile is more than just a set of steps but a mindset.\\n\\nIts focus lies in cultivating an effective and collaborative team that actively seeks regular feedback from the client.\\n\\nAgile, in essence, is a philosophy centered around flexibility, client engagement, and continuous improvement.', 'Projects that are ideally suited for an Agile approach are;\\n\\nThose in which the client possesses a general idea of their requirements but lacks a precise vision or has a set of desired qualities without rigid specifications.\\n\\nWhen the emphasis is on adaptability and the acceptance of a certain level of uncertainty and risk\\n\\nIn scenarios where flexibility and responsiveness to evolving needs are crucial elements of project success.\\n\\nAn example of an Agile project is building a website.\\n\\nYour team would construct various components of the website in iterative sprints, delivering each part to the client as it is completed.\\n\\nThis enables the launch of the website with fully developed sections, such as the main homepage, ready for public viewing, while other features like the company blog or online appointment booking are continuously developed over time.', 'This iterative delivery model facilitates early feedback from the client, allowing for adjustments along the way and minimising wasted efforts.\\n\\nIt ensures that the website evolves organically, aligning with client preferences and requirements.\\n\\n3.\\n\\nScrum: This Agile framework prioritises the development, delivery, and long-term support of complex projects and products through collaboration, accountability, and an iterative process.\\n\\nSmall, cross-functional teams, guided by a Scrum Master, handle the work, which is segmented into brief Sprints with predefined deliverables.\\n\\nOther project methodology can be found in the References\\n\\n💡 Activity 2: List other project management methodologies\\n\\nConclusion\\n\\nIn this article, we were able to establish that not all projects are the same but all project do have a similar life cycle.', 'Moreover, we identified that projects could be linear or iterative and all projects would require a some form of framework(s) used for the successfully completion of the project.\\n\\nReferences\\n\\n\\n\\n\\nTitle:The Effective Project Manager\\nArticle:\\nProject manager core skills\\n\\nAs you progress in your journey as a project manager, you will most likely work with cross-functional teams — people with different backgrounds, types of expertise and job roles.\\n\\nTherefore, you would be tasked with the duties of clarifying goals, gathering the right team members with the right skills, having a criteria of progress measurement and recognition of efforts.\\n\\nWith that in mind, the question of what core skills are needed for the actualisation of these duties and also responsibilities;\\n\\nEnabling Decision-Making: Enabling decision-making is a core skill that harmonises with the cross-functional skill of clarifying goals.', 'A project manager proficient in decision-making helps articulate clear project objectives, providing a foundation for effective goal clarification.\\n\\nThis skill is integral to the duty of planning and organising, as decisions made during project planning directly influence the project’s roadmap.\\n\\nFor instance, in planning a software development project, the project manager’s decision on the choice of programming language directly aligns with the goal of creating an efficient and scalable application having discussed with key stakeholders.\\n\\nEnabling decision-making is a core skill that harmonises with the cross-functional skill of clarifying goals.\\n\\nA project manager proficient in decision-making helps articulate clear project objectives, providing a foundation for effective goal clarification.\\n\\nThis skill is integral to the duty of planning and organising, as decisions made during project planning directly influence the project’s roadmap.', 'For instance, in planning a software development project, the project manager’s decision on the choice of programming language directly aligns with the goal of creating an efficient and scalable application having discussed with key stakeholders.\\n\\nCommunicating and Escalating: The core skill of communicating and escalating seamlessly integrates with the cross-functional skill of gathering team members with the right skills.\\n\\nEffective communication ensures that project managers convey the required skills and expertise needed for the project, aligning with the duty of task management.\\n\\nAlso a clear definition of the whom to report an issue to is needed to ensure the project is in constant progress.\\n\\nFor instance, in a website development project, clear communication about the importance of specific coding skills ensures that the right tasks are assigned to developers with the requisite expertise.', 'The core skill of communicating and escalating seamlessly integrates with the cross-functional skill of gathering team members with the right skills.\\n\\nEffective communication ensures that project managers convey the required skills and expertise needed for the project, aligning with the duty of task management.\\n\\nAlso a clear definition of the whom to report an issue to is needed to ensure the project is in constant progress.\\n\\nFor instance, in a website development project, clear communication about the importance of specific coding skills ensures that the right tasks are assigned to developers with the requisite expertise.\\n\\nFlexibility: Flexibility as a core skill complements the cross-functional skill of having criteria for progress management.\\n\\nA project manager’s ability to adapt to changing events facilitates the establishment of effective progress management criteria.', 'This flexibility is crucial in task management, as project scope and goals do sometimes change over the course of a project, a project manager must be able to implement change management to be highly flexible in any given project.\\n\\nFor example, a project manager overseeing a marketing campaign must be flexible in adjusting strategies based on real-time market responses.\\n\\nFlexibility as a core skill complements the cross-functional skill of having criteria for progress management.\\n\\nA project manager’s ability to adapt to changing events facilitates the establishment of effective progress management criteria.\\n\\nThis flexibility is crucial in task management, as project scope and goals do sometimes change over the course of a project, a project manager must be able to implement change management to be highly flexible in any given project.\\n\\nFor example, a project manager overseeing a marketing campaign must be flexible in adjusting strategies based on real-time market responses.', 'Strong Organisational Skills: Strong organisational skills connect with the cross-functional skill of recognising efforts within the duty of project execution.\\n\\nA project manager’s organisational prowess ensures that the execution phase proceeds smoothly, and accomplishments are duly acknowledged.\\n\\nIn a construction project, strong organisational skills contribute to the seamless coordination of tasks, and when progress milestones are achieved, the project manager can effectively recognise and celebrate the team’s efforts which thereby boosts the teams’ morale.\\n\\n💡 Activity 3: Try to connect the core skills of a project manager with the cross functional skills and duties and responsibilities.\\n\\nAlso give simple examples.\\n\\nConclusion\\n\\nWith the definition of a project manager, the duties and responsibilities could be drawn out.\\n\\nMoreover, the link between the core skills of a project manager could be linked with the cross functional skills, duties and responsibilities of a project manager.', 'No doubt having these set of skills would make one not only an effective project manager but also an effective leader whom team members would look up to, thereby adding value and impact to an organisation.\\n\\nTitle:What is Project Management?\\n\\nArticle:\\nWhat is Project Management?\\n\\nAn introduction to project management Daniel Chiebuka Ihenacho · Follow 4 min read · Nov 9, 2023 -- Listen Share\\n\\nPhoto by Octavian Dan on Unsplash\\n\\nWhat is a project?\\n\\nIn the realm of project management, a project is defined as a unique venture, characterised by its sets of deliverables and exclusive objectives.\\n\\nThis venture is a defined beginning and an end.', 'This venture is a defined beginning and an end.\\n\\nExamples of projects can be found in your daily lives or even your workplace;\\n\\nGrocery shopping within a defined timeframe\\n\\nPlanning your vacation\\n\\nPlanning a wedding ceremony\\n\\nOrganising a party/event\\n\\nCompletion of a university task\\n\\nPreparation for an examination to get a suitable score\\n\\nThese are just a few examples about a projects in our daily lives.\\n\\n💡 Activity 1: Try identifying some activities you’ve done, think about them as projects and analyse how you managed them.\\n\\nWhat is project management?\\n\\nProject management involves the application of general/domain knowledge, skills, tools and techniques to fulfil stated project requirements and achieve a desired set of outcomes/results.\\n\\nIt is highly significant for businesses as it guarantees that all projects meet its expected outcome both within a designated timeframe and defined budget.', 'The fantastic aspect of project management is its broad application across various industries and types of companies, without the need for deep technical/domain knowledge.\\n\\nThis implies that your past job or life experiences can contribute to developing the skills essential for a successful career in project management.\\n\\nAccording to a survey by the Project Management Institute;\\n\\n31% of projects fail to meet an organisation’s goals\\n\\n43% of the projects miss budget targets\\n\\n48% of projects miss delivery dates\\n\\nHence, the success of projects, regardless of their scale; big or small, rests significantly on effective project management.\\n\\nTitle:What is Time Series Forecasting?\\n\\nArticle:\\nWhat is Time Series Forecasting?\\n\\nPhoto by Aron Visuals on Unsplash\\n\\nTime series forecasting, the time dependent area of machine learning and data science.\\n\\nTricky but yet fun to explore.\\n\\nWhat is Time Series?\\n\\nA dataset for machine learning is simply a set of observations.', 'What is Time Series?\\n\\nA dataset for machine learning is simply a set of observations.\\n\\nFor instance;\\n\\nMachine learning algorithms often presume that your data is independent and uniformly distributed, which isn’t the case with time series data.\\n\\nTime series brings order to the observations with respect with time.\\n\\nThis additional dimension serves as a constraint as well as a structure that gives more data.\\n\\nHence, time series is a sequence of observations taken serially in time.\\n\\n— Page 1, Time Series Analysis: Forecasting and Control.\\n\\nTime Series Nomenclature\\n\\nThe present time is referred to as t, and an observation made at that time is referred to as obs (t).\\n\\nLag times or lags refer to prior time observations.\\n\\nFor example, a prior time is defined as t-1, with obs(t-1) as its observation, and the time before that is specified as t-2, with obs(t-2) as its observation (t-2).\\n\\nThe following are the time observations beyond the present time: t+1 and obs(t+1); t+2 and obs(t+2).', 'The following are the time observations beyond the present time: t+1 and obs(t+1); t+2 and obs(t+2).\\n\\nBelow is a summary;\\n\\n(t-n) → prior time\\n\\n(t) → point of reference\\n\\n(t+n) → future/forecast time\\n\\nA Table of Time Series Observations\\n\\nTimes Series Analysis vs. Times Series Forecasting\\n\\nTime series analysis entails characterizing the dataset, whereas forecasting entails making predictions.\\n\\nThe basic goal of time series analysis is to create mathematical models that provide reasonable descriptions of the dataset, such as meaningful statistics and other properties; forecasting entails utilizing models that have been fitted to historical data to forecast future observations.\\n\\nPredictive modeling can be divided into three (3) categories:\\n\\nData sampling: This involves the collection of data which best describes the problem with known relationships between inputs and outputs.\\n\\nModel training: This involves the use of sampled data to create a model that can be used repeatedly.', 'Model training: This involves the use of sampled data to create a model that can be used repeatedly.\\n\\nPredicting: This involves using the trained model on new data for which the output is unknown.\\n\\nTime Series Analysis vs Forecasting\\n\\nComponents of Time Series\\n\\nTime Series Decomposed Components\\n\\nA given time series can be comprised of systematic and non-systematic components.\\n\\nSystematic components includes: level, trend, and seasonality, while non-systematic component: noise.\\n\\nSystematic components have consistency or repetition which may be modeled and explained whereas non-systematic components cannot directly be modeled.\\n\\nEach of these components can be defined as follows:\\n\\nLevel: Any time series will have a baseline, to which we add different components to form a complete time series.\\n\\nTrend: This is the increasing or decreasing value in the series over time.\\n\\nFor example the above time series has an increasing trend.', 'For example the above time series has an increasing trend.\\n\\nSeasonality: This is the repeating patterns or cycles of behaviour in the series over time.\\n\\nFor example the above time series clearly has seasonality.\\n\\nNoise: This is random variation or fluctuations in the time series data.\\n\\nAll time series have a level, most have noise, and the trend and seasonality are optional.\\n\\nThe above components can be gotten from the decomposition of a given time series.\\n\\nThere are mainly two types of time series decomposition, namely; additive decomposition and multiplicative decomposition.\\n\\nAdditive decomposition is simply the addition of all individual components to get the original time series.\\n\\nFor example the above time series is an additive decomposition.\\n\\ny(t) = Level + Trend + Seasonality + Noise\\n\\nMultiplicative decomposition is simply the multiplication of all individual components to get the original time series.', 'y(t) = Level ×Trend ×Seasonality × Noise\\n\\nTime series forecasting can be found in many areas, below are a few examples:\\n\\nEach year, forecasting the corn yield in tons per state.\\n\\nPredicting the daily closing price of a stock.\\n\\nPredicting the annual birth rate at all of a city’s hospitals.\\n\\nPredicting a store’s product sales in terms of units sold per day.\\n\\nPredicting the daily number of people passing through a train station.\\n\\nEach quarter, predicting unemployment in a state.\\n\\nPredicting server utilization demand hour by hour.\\n\\nEach breeding season, estimating the number of a state’s rabbit population.\\n\\nPredicting the average gasoline price in a city on a daily basis.\\n\\nReferences:\\n\\nIn Plain English\\n\\nThank you for being a part of our community!\\n\\nBefore you go:']\n",
      "Speech recognition\n",
      "\n",
      "Video analysis.\n",
      "\n",
      "Bidirectional LSTM or BiLSTM\n",
      "\n",
      "This processes the sequence of information in both directions; forward (left to right/past to future) and backwards (right to left/future to past).\n",
      "\n",
      "This is not backward propagation\n",
      "\n",
      "With regular LSTM input flow can only be processed in one direction, either forward or backwards but fails to fully preserve the information from both directions, but in bidirectional LSTM both past and future information is preserved due to its ability to learn the relationship between future and past words.\n",
      "\n",
      "For example, “Daniel goes to the […..], because he is always sick.”, because of the future sentence, “because he is always sick”, the blank space can easily be predicted as hospital by the BiLSTM model because it has learned the relationship between the future and past words thereby giving more meaning.\n",
      "\n",
      "BiLSTMs are usually made use of where there are needs for sequence-to-sequence tasks.\n",
      "30\n"
     ]
    }
   ],
   "source": [
    "try:\n",
    "    print(nltk_texts)\n",
    "    print(nltk_texts[3])\n",
    "    print(len(nltk_texts))\n",
    "except IndexError as error:\n",
    "    print(f\"{len(nltk_texts)}, please change the chunk_size or change your index\")"
   ]
  },
  {
   "cell_type": "markdown",
   "metadata": {},
   "source": [
    "### **SpacyTextSplitter**"
   ]
  },
  {
   "cell_type": "code",
   "execution_count": 67,
   "metadata": {},
   "outputs": [
    {
     "data": {
      "text/plain": [
       "<spacy.lang.en.English at 0x2896f4d3f50>"
      ]
     },
     "execution_count": 67,
     "metadata": {},
     "output_type": "execute_result"
    }
   ],
   "source": [
    "import spacy\n",
    "spacy.load('en_core_web_sm')"
   ]
  },
  {
   "cell_type": "code",
   "execution_count": 88,
   "metadata": {},
   "outputs": [],
   "source": [
    "spacy_text_splitter = SpacyTextSplitter(chunk_size=1000, \n",
    "                                        chunk_overlap=100)\n",
    "                                        # separator=\"\") # less texts: not good\n",
    "                                        # separator=\"\".join(['\\n','\\n']))\n",
    "with open(text_source) as my_file_reader:\n",
    "    my_file = my_file_reader.read()\n",
    "spacy_texts = spacy_text_splitter.split_text(my_file)"
   ]
  },
  {
   "cell_type": "code",
   "execution_count": 89,
   "metadata": {},
   "outputs": [
    {
     "name": "stdout",
     "output_type": "stream",
     "text": [
      "['Title:Recurrent Neural Network, LSTM and Bidirectional LSTM\\nArticle:\\nPhoto by Gülfer ERGİN on Unsplash\\n\\nRecurrent Neural Network, LSTM and Bidirectional LSTM Daniel Chiebuka Ihenacho · Follow 4 min read · Jan 5, 2023 -- Listen Share\\n\\nRecent innovations in Natural Language Processing have focused on how the context of words can be properly captured in their vector representations.\\n\\nTraditional neural networks cannot do this with high accuracy and for this reason Recurrent neural networks have been developed to address this issue due to the following;\\n\\nUse of sequential information.\\n\\n\\n\\nPresence of memory\\n\\nThe above diagram is a Rolled RNN, where;\\n\\nA is the Rolled neural network\\n\\nis the Rolled neural network xₜ is a given input\\n\\nis a given input hₜ is the output.\\n\\n\\n\\nis the output.\\n\\nThe loop allows information to be passed onto the next step of the network.', 'is the output.\\n\\nThe loop allows information to be passed onto the next step of the network.\\n\\n\\n\\nThe diagram shows the unrolled RNN network\\n\\nThe unrolled RNN is nothing more than multiple copies of the same network, passing information to the next successor.\\n\\nIt is because of this chain-like nature of RNN that it can be used for sequential data, a good example of this predicting the next word of a sentence; “The sky is blue”, the word predicted is blue.\\n\\n\\n\\nBut what if the context gap between relevant information and point of need is quite large, for example; “Daniel loves apples, it makes him healthy,…..,it is a […..]”.\\n\\nFrom the given sentence, the network would depend on the context given in the sentence to make a prediction that the final word will be fruit, based off the previous inputs.\\n\\nBut due to this gap, RNNs are unable to learn how to make a connection between the relevant information and the point of need.', 'As the gap grows, RNN fails\\n\\nRNN Use Case (image by author)\\n\\nLSTM(Long Short Term Memory)\\n\\n\\n\\nThis is a variation of RNN which solves the issue encountered in regular RNN (gap growth).\\n\\nLSTMs generally have three gates namely; input gate, forget gate & output gate.\\n\\nBecause of this architecture, LSTM is able to solve the vanishing gradient problem encountered by RNNs which leads to difficulty learning from any given data with each successive iteration and is capable of learning long-term dependencies.\\n\\n\\n\\nTake for example, “Daniel loves apples, it makes him healthy,…..,it is a […..]”,from the given sentence, the network is able to make a successfully prediction that the final word should be fruit, based off the previous inputs due to the preservation of information.\\n\\n\\n\\nLSTM Use Case (image by author)\\n\\n\\n\\nLSTM can also be used to solve a variety of problems such as;\\n\\nTime series forecasting.\\n\\n\\n\\nSpeech recognition\\n\\nVideo analysis.\\n\\n\\n\\nBidirectional LSTM or BiLSTM', 'Speech recognition\\n\\nVideo analysis.\\n\\n\\n\\nBidirectional LSTM or BiLSTM\\n\\n\\n\\nThis processes the sequence of information in both directions; forward (left to right/past to future) and backwards (right to left/future to past).\\n\\n\\n\\nThis is not backward propagation\\n\\nWith regular LSTM input flow can only be processed in one direction, either forward or backwards but fails to fully preserve the information from both directions, but in bidirectional LSTM both past and future information is preserved due to its ability to learn the relationship between future and past words.\\n\\nFor example, “Daniel goes to the […..], because he is always sick.”, because of the future sentence, “because he is always sick”, the blank space can easily be predicted as hospital by the BiLSTM model because it has learned the relationship between the future and past words thereby giving more meaning.\\n\\n\\n\\nBiLSTMs are usually made use of where there are needs for sequence-to-sequence tasks.', 'BiLSTMs are usually made use of where there are needs for sequence-to-sequence tasks.\\n\\nThis kind of network can also be used in\\n\\nText classification\\n\\nSpeech recognition\\n\\nForecasting models.\\n\\n\\n\\nReferences\\n\\n[1] S. Hochreiter, J. Schmidhuber, Long Short-Term Memory (1997), Neural Computation\\n\\n[2] http://colah.github.io/posts/2015-08-Understanding-LSTMs/\\n\\n[3] https://medium.com/@raghavaggarwal0089/bi-lstm-bc3d68da8bd0\\n\\n[4] https://www.youtube.com/watch?v=YCzL96nL7j0\\n\\n[5] https://www.youtube.com/watch?v=atYPhweJ7ao\\n\\n\\n\\n\\nTitle:Project Initiation\\nArticle:\\n\\n\\nProject initiation phase components\\n\\nLet’s discuss some components of the initiation phase;\\n\\nProject goal: This is simply the overall purpose of the project which aims towards achieving a desired outcome of the project.\\n\\n\\n\\nProject scope:\\n\\nThis is involves the definition of work that needs to be done to complete the project.\\n\\nUsually the project scope lays out the series of steps required for the completion of the project.', 'Usually the project scope lays out the series of steps required for the completion of the project.\\n\\n\\n\\nProject deliverables: These are tangible outcomes, results, or outputs that are produced as a result of completing specific project milestones.\\n\\n\\n\\nSuccess criteria: Success criteria in project management are specific and measurable conditions or outcomes that indicate the successful achievement of project goals and objectives.\\n\\n\\n\\nStakeholders: These are people who have an interest in the project, are affected by the project and also influence the project.\\n\\n\\n\\nResources: The involves things such as budget, people and materials needed for the successful completion of a project.', 'Title:Change Management\\nArticle:\\nChange Management\\n\\nHow change should be properly managed Daniel Chiebuka Ihenacho · Follow 4 min read · Nov 30, 2023 -- Listen Share\\n\\nPhoto by Possessed Photography on Unsplash\\n\\nNo project actually goes as planned, just last week something came up that influenced my scheduling and I had to adapt my timetable for just that week.\\n\\nChange occurs in all facets of other lives and how we manage it matters, because it influences the outcome of any project or task taken up.\\n\\n\\n\\n💡 Activity 1: Identify some areas or scenarios in which you had to adapt a change towards an desired outcome.\\n\\n\\n\\nWhat is Change management ?\\n\\n\\n\\nThis refers to using an approach and set of processes to effectively plan, implement and control changes within a project.\\n\\nIt also involves management of people to achieve the desired outcomes and adopt it.\\n\\n\\n\\nIt’s important to recognise that it’s the people in an organisation who are directly impacted by any changes in the workplace.', 'There several change management models and a few could be found in this links in the reference section.\\n\\n\\n\\nNo matter the model used some concepts are vital to change management which are;\\n\\nCreating a sense of ownership and urgency: Ownership and urgency enables team members to take responsibility towards the completion of their tasks and the importance it holds towards the progression of a project.\\n\\nWhen team members and stakeholders understands this, the progression of a project no matter the problems and hurdles met allow for an easy implementation of change management models.\\n\\n\\n\\nOwnership and urgency enables team members to take responsibility towards the completion of their tasks and the importance it holds towards the progression of a project.\\n\\nWhen team members and stakeholders understands this, the progression of a project no matter the problems and hurdles met allow for an easy implementation of change management models.', 'Effective communication : Choosing the right personnel is vital towards the project, but sometimes as the project manager, your team is selected for you which means not only your communication but soft skills would be highly needed to connect with each team member in order to keep the project running.\\n\\nDeveloping a comprehensive strategy for sharing information about the changes to all stakeholders and team members leads to transparency and openness amongst everyone.\\n\\n\\n\\nChoosing the right personnel is vital towards the project, but sometimes as the project manager, your team is selected for you which means not only your communication but soft skills would be highly needed to connect with each team member in order to keep the project running.\\n\\nDeveloping a comprehensive strategy for sharing information about the changes to all stakeholders and team members leads to transparency and openness amongst everyone.', 'Change readiness: Assessing the organisation’s and individual’s readiness for change, including their willingness and capability to adapt gives the project manager some form of understanding towards the choice of a proper change management model and approach for the completion of any project.\\n\\n\\n\\nAssessing the organisation’s and individual’s readiness for change, including their willingness and capability to adapt gives the project manager some form of understanding towards the choice of a proper change management model and approach for the completion of any project.\\n\\nStakeholders Engagement: The involvement of key stakeholders throughout the change process ensure their inputs, concerns and support is duly noted.\\n\\nPoor communication with stakeholders concerning the alterations of a project could lead to its failure.\\n\\n\\n\\nThe involvement of key stakeholders throughout the change process ensure their inputs, concerns and support is duly noted.', 'Poor communication with stakeholders concerning the alterations of a project could lead to its failure.\\n\\nTraining and Development: Providing necessary training and resources helps individuals to adapt to the changes effectively.\\n\\nThis also leads a more organised project and reduces chaos when applying a change in the project.\\n\\n\\n\\nWhy and When to implement change management?\\n\\n\\n\\nWhy: Change is inevitable in any project due to evolving requirements, external factors, or unforeseen circumstances.\\n\\nChange management ensures that these changes are implemented smoothly without negatively impacting project goals, timelines, or team morale.\\n\\n\\n\\nWhen: Change management should be integrated from the project’s initiation and continue throughout its lifecycle.\\n\\nIt is crucial during major project milestones, shifts in project scope, or when adapting to external factors.', 'Title:Project life cycle\\nArticle:\\nWhat is project management methodology?\\n\\nHaving established that not all projects are the same, there is a need to have a predefined set of methods in place for the successful completion of a project.\\n\\nThis is where project management methodology comes in.\\n\\n\\n\\nProject management methodology is a set of guiding principles, techniques and processes used through a project’s life cycle.\\n\\nIt essentially guides project managers with knowing which framework works best for a given project at hand.\\n\\n\\n\\nProjects could be linear or iterative.\\n\\nLinear projects means a project is executed in a sequential order.\\n\\nExamples are; the construction of a house, Highway, pipeline and tunnels construction, these kind of projects benefits from the use of the Waterfall methodology as its dictates a linear approach in project execution.\\n\\nIt is also referred to as the waterfall cycle because the stages have a distinct progressive flow.', 'It is also referred to as the waterfall cycle because the stages have a distinct progressive flow.\\n\\n\\n\\nIterative projects permits more flexibility and change management.\\n\\nIt follows the repetition of phases thereby allowing parts of the project to be tested out to ensure correctness level is achieved before the final result is delivered.\\n\\nParts of the project can be delivered as they are completed, rather than waiting for the entire project to be done.\\n\\nIt is also known as the agile cycle due to its ability to break down activities into short phases that derive value.\\n\\n\\n\\nOther project types are;\\n\\nHybrid\\n\\nIncremental\\n\\nEvolutionary\\n\\nThere several project methodologies and I would briefly discuss the following below, but please refer to the references for more methodologies;\\n\\n\\n\\nWaterfall: In the application of this approach, project managers connect each task to the previous one with a dependency.', 'This means that teams cannot proceed to the next phase of work until they have successfully addressed the tasks at hand.\\n\\nSuch a method encourages collaboration and ensures that the team remains focused on the current task.\\n\\nA project manager might opt for the Waterfall approach under the following circumstances:\\n\\nWhen implementing changes to the project becomes costly once initiated.\\n\\n\\n\\nWhen the project’s phases are well-defined from the outset.\\n\\n\\n\\nWhen there are prerequisite tasks that must be completed before progressing to the next stage.\\n\\n\\n\\n2.\\n\\nAgile: The Agile methodology stands out as one of the widely adopted project management frameworks, even surpassing the popularity of Waterfall.\\n\\nAgile is more than just a set of steps but a mindset.\\n\\nIts focus lies in cultivating an effective and collaborative team that actively seeks regular feedback from the client.\\n\\nAgile, in essence, is a philosophy centered around flexibility, client engagement, and continuous improvement.', 'Projects that are ideally suited for an Agile approach are;\\n\\nThose in which the client possesses a general idea of their requirements but lacks a precise vision or has a set of desired qualities without rigid specifications.\\n\\n\\n\\nWhen the emphasis is on adaptability and the acceptance of a certain level of uncertainty and risk\\n\\nIn scenarios where flexibility and responsiveness to evolving needs are crucial elements of project success.\\n\\n\\n\\nAn example of an Agile project is building a website.\\n\\nYour team would construct various components of the website in iterative sprints, delivering each part to the client as it is completed.\\n\\nThis enables the launch of the website with fully developed sections, such as the main homepage, ready for public viewing, while other features like the company blog or online appointment booking are continuously developed over time.', 'This iterative delivery model facilitates early feedback from the client, allowing for adjustments along the way and minimising wasted efforts.\\n\\nIt ensures that the website evolves organically, aligning with client preferences and requirements.\\n\\n\\n\\n3.\\n\\nScrum:\\n\\nThis Agile framework prioritises the development, delivery, and long-term support of complex projects and products through collaboration, accountability, and an iterative process.\\n\\nSmall, cross-functional teams, guided by a Scrum Master, handle the work, which is segmented into brief Sprints with predefined deliverables.\\n\\n\\n\\nOther project methodology can be found in the References\\n\\n💡 Activity 2: List other project management methodologies\\n\\nConclusion\\n\\nIn this article, we were able to establish that not all projects are the same but all project do have a similar life cycle.', 'Moreover, we identified that projects could be linear or iterative and all projects would require a some form of framework(s) used for the successfully completion of the project.\\n\\n\\n\\nReferences\\n\\n\\n\\n\\nTitle:The Effective Project Manager\\nArticle:\\nProject manager core skills\\n\\nAs you progress in your journey as a project manager, you will most likely work with cross-functional teams — people with different backgrounds, types of expertise and job roles.\\n\\nTherefore, you would be tasked with the duties of clarifying goals, gathering the right team members with the right skills, having a criteria of progress measurement and recognition of efforts.\\n\\n\\n\\nWith that in mind, the question of what core skills are needed for the actualisation of these duties and also responsibilities;\\n\\nEnabling Decision-Making: Enabling decision-making is a core skill that harmonises with the cross-functional skill of clarifying goals.', 'A project manager proficient in decision-making helps articulate clear project objectives, providing a foundation for effective goal clarification.\\n\\nThis skill is integral to the duty of planning and organising, as decisions made during project planning directly influence the project’s roadmap.\\n\\nFor instance, in planning a software development project, the project manager’s decision on the choice of programming language directly aligns with the goal of creating an efficient and scalable application having discussed with key stakeholders.\\n\\n\\n\\nEnabling decision-making is a core skill that harmonises with the cross-functional skill of clarifying goals.\\n\\nA project manager proficient in decision-making helps articulate clear project objectives, providing a foundation for effective goal clarification.\\n\\nThis skill is integral to the duty of planning and organising, as decisions made during project planning directly influence the project’s roadmap.', 'For instance, in planning a software development project, the project manager’s decision on the choice of programming language directly aligns with the goal of creating an efficient and scalable application having discussed with key stakeholders.\\n\\nCommunicating and Escalating: The core skill of communicating and escalating seamlessly integrates with the cross-functional skill of gathering team members with the right skills.\\n\\nEffective communication ensures that project managers convey the required skills and expertise needed for the project, aligning with the duty of task management.\\n\\nAlso a clear definition of the whom to report an issue to is needed to ensure the project is in constant progress.\\n\\nFor instance, in a website development project, clear communication about the importance of specific coding skills ensures that the right tasks are assigned to developers with the requisite expertise.', 'The core skill of communicating and escalating seamlessly integrates with the cross-functional skill of gathering team members with the right skills.\\n\\nEffective communication ensures that project managers convey the required skills and expertise needed for the project, aligning with the duty of task management.\\n\\nAlso a clear definition of the whom to report an issue to is needed to ensure the project is in constant progress.\\n\\nFor instance, in a website development project, clear communication about the importance of specific coding skills ensures that the right tasks are assigned to developers with the requisite expertise.\\n\\nFlexibility: Flexibility as a core skill complements the cross-functional skill of having criteria for progress management.\\n\\nA project manager’s ability to adapt to changing events facilitates the establishment of effective progress management criteria.', 'This flexibility is crucial in task management, as project scope and goals do sometimes change over the course of a project, a project manager must be able to implement change management to be highly flexible in any given project.\\n\\nFor example, a project manager overseeing a marketing campaign must be flexible in adjusting strategies based on real-time market responses.\\n\\n\\n\\nFlexibility as a core skill complements the cross-functional skill of having criteria for progress management.\\n\\nA project manager’s ability to adapt to changing events facilitates the establishment of effective progress management criteria.\\n\\nThis flexibility is crucial in task management, as project scope and goals do sometimes change over the course of a project, a project manager must be able to implement change management to be highly flexible in any given project.\\n\\nFor example, a project manager overseeing a marketing campaign must be flexible in adjusting strategies based on real-time market responses.', 'Strong Organisational Skills: Strong organisational skills connect with the cross-functional skill of recognising efforts within the duty of project execution.\\n\\nA project manager’s organisational prowess ensures that the execution phase proceeds smoothly, and accomplishments are duly acknowledged.\\n\\nIn a construction project, strong organisational skills contribute to the seamless coordination of tasks, and when progress milestones are achieved, the project manager can effectively recognise and celebrate the team’s efforts which thereby boosts the teams’ morale.\\n\\n💡 Activity 3: Try to connect the core skills of a project manager with the cross functional skills and duties and responsibilities.\\n\\nAlso give simple examples.\\n\\n\\n\\nConclusion\\n\\nWith the definition of a project manager, the duties and responsibilities could be drawn out.', 'Moreover, the link between the core skills of a project manager could be linked with the cross functional skills, duties and responsibilities of a project manager.\\n\\n\\n\\nNo doubt having these set of skills would make one not only an effective project manager but also an effective leader whom team members would look up to, thereby adding value and impact to an organisation.\\n\\n\\n\\n\\n\\n\\nTitle:What is Project Management?\\nArticle:\\nWhat is Project Management?\\n\\n\\n\\nAn introduction to project management Daniel Chiebuka Ihenacho · Follow 4 min read · Nov 9, 2023 -- Listen Share\\n\\nPhoto by Octavian Dan on Unsplash\\n\\nWhat is a project?\\n\\nIn the realm of project management, a project is defined as a unique venture, characterised by its sets of deliverables and exclusive objectives.\\n\\nThis venture is a defined beginning and an end.', 'This venture is a defined beginning and an end.\\n\\n\\n\\nExamples of projects can be found in your daily lives or even your workplace;\\n\\nGrocery shopping within a defined timeframe\\n\\nPlanning your vacation\\n\\nPlanning a wedding ceremony\\n\\nOrganising a party/event\\n\\nCompletion of a university task\\n\\nPreparation for an examination to get a suitable score\\n\\nThese are just a few examples about a projects in our daily lives.\\n\\n\\n\\n💡 Activity 1: Try identifying some activities you’ve done, think about them as projects and analyse how you managed them.\\n\\n\\n\\nWhat is project management?\\n\\nProject management involves the application of general/domain knowledge, skills, tools and techniques to fulfil stated project requirements and achieve a desired set of outcomes/results.\\n\\nIt is highly significant for businesses as it guarantees that all projects meet its expected outcome both within a designated timeframe and defined budget.', 'The fantastic aspect of project management is its broad application across various industries and types of companies, without the need for deep technical/domain knowledge.\\n\\nThis implies that your past job or life experiences can contribute to developing the skills essential for a successful career in project management.\\n\\n\\n\\nAccording to a survey by the Project Management Institute;\\n\\n31% of projects fail to meet an organisation’s goals\\n\\n43% of the projects miss budget targets\\n\\n48% of projects miss delivery dates\\n\\nHence, the success of projects, regardless of their scale; big or small, rests significantly on effective project management.\\n\\n\\n\\n\\n\\n\\nTitle:What is Time Series Forecasting?\\nArticle:\\nWhat is Time Series Forecasting?\\n\\nPhoto by Aron Visuals on Unsplash\\n\\nTime series forecasting, the time dependent area of machine learning and data science.\\n\\nTricky but yet fun to explore.\\n\\n\\n\\nWhat is Time Series?\\n\\nA dataset for machine learning is simply a set of observations.', 'What is Time Series?\\n\\nA dataset for machine learning is simply a set of observations.\\n\\nFor instance;\\n\\nMachine learning algorithms often presume that your data is independent and uniformly distributed, which isn’t the case with time series data.\\n\\nTime series brings order to the observations with respect with time.\\n\\nThis additional dimension serves as a constraint as well as a structure that gives more data.\\n\\n\\n\\nHence, time series is a sequence of observations taken serially in time.\\n\\n\\n\\n— Page 1, Time Series Analysis: Forecasting and Control.\\n\\n\\n\\nTime Series Nomenclature\\n\\nThe present time is referred to as t, and an observation made at that time is referred to as obs (t).\\n\\nLag times or lags refer to prior time observations.\\n\\nFor example, a prior time is defined as t-1, with obs(t-1) as its observation, and the time before that is specified as t-2, with obs(t-2) as its observation (t-2).\\n\\nThe following are the time observations beyond the present time: t+1 and obs(t+1); t+2 and obs(t+2).', 'The following are the time observations beyond the present time: t+1 and obs(t+1); t+2 and obs(t+2).\\n\\nBelow is a summary;\\n\\n(t-n) → prior time\\n\\n(t) → point of reference\\n\\n(t+n) → future/forecast time\\n\\nA Table of Time Series Observations\\n\\nTimes Series Analysis vs. Times Series Forecasting\\n\\nTime series analysis entails characterizing the dataset, whereas forecasting entails making predictions.\\n\\nThe basic goal of time series analysis is to create mathematical models that provide reasonable descriptions of the dataset, such as meaningful statistics and other properties; forecasting entails utilizing models that have been fitted to historical data to forecast future observations.\\n\\n\\n\\nPredictive modeling can be divided into three (3) categories:\\n\\n\\n\\nData sampling: This involves the collection of data which best describes the problem with known relationships between inputs and outputs.\\n\\nModel training: This involves the use of sampled data to create a model that can be used repeatedly.', 'Model training: This involves the use of sampled data to create a model that can be used repeatedly.\\n\\nPredicting: This involves using the trained model on new data for which the output is unknown.\\n\\n\\n\\nTime Series Analysis vs Forecasting\\n\\nComponents of Time Series\\n\\nTime Series Decomposed Components\\n\\nA given time series can be comprised of systematic and non-systematic components.\\n\\nSystematic components includes: level, trend, and seasonality, while non-systematic component: noise.\\n\\nSystematic components have consistency or repetition which may be modeled and explained whereas non-systematic components cannot directly be modeled.\\n\\n\\n\\nEach of these components can be defined as follows:\\n\\n\\n\\nLevel: Any time series will have a baseline, to which we add different components to form a complete time series.\\n\\nTrend: This is the increasing or decreasing value in the series over time.\\n\\nFor example the above time series has an increasing trend.\\n\\nSeasonality:', 'For example the above time series has an increasing trend.\\n\\nSeasonality:\\n\\nThis is the repeating patterns or cycles of behaviour in the series over time.\\n\\nFor example the above time series clearly has seasonality.\\n\\nNoise:\\n\\nThis is random variation or fluctuations in the time series data.\\n\\n\\n\\nAll time series have a level, most have noise, and the trend and seasonality are optional.\\n\\n\\n\\nThe above components can be gotten from the decomposition of a given time series.\\n\\nThere are mainly two types of time series decomposition, namely; additive decomposition and multiplicative decomposition.\\n\\n\\n\\nAdditive decomposition is simply the addition of all individual components to get the original time series.\\n\\nFor example the above time series is an additive decomposition.\\n\\n\\n\\ny(t)\\n\\n= Level + Trend + Seasonality + Noise\\n\\nMultiplicative decomposition is simply the multiplication of all individual components to get the original time series.\\n\\ny(t)\\n\\n= Level ×Trend ×Seasonality ×', '= Level ×Trend ×Seasonality ×\\n\\nNoise\\n\\nTime series forecasting can be found in many areas, below are a few examples:\\n\\nEach year, forecasting the corn yield in tons per state.\\n\\n\\n\\nPredicting the daily closing price of a stock.\\n\\n\\n\\nPredicting the annual birth rate at all of a city’s hospitals.\\n\\n\\n\\nPredicting a store’s product sales in terms of units sold per day.\\n\\n\\n\\nPredicting the daily number of people passing through a train station.\\n\\n\\n\\nEach quarter, predicting unemployment in a state.\\n\\n\\n\\nPredicting server utilization demand hour by hour.\\n\\n\\n\\nEach breeding season, estimating the number of a state’s rabbit population.\\n\\n\\n\\nPredicting the average gasoline price in a city on a daily basis.\\n\\n\\n\\nReferences:\\n\\nIn Plain English\\n\\nThank you for being a part of our community!\\n\\nBefore you go:']\n",
      "Speech recognition\n",
      "\n",
      "Video analysis.\n",
      "\n",
      "\n",
      "\n",
      "Bidirectional LSTM or BiLSTM\n",
      "\n",
      "\n",
      "\n",
      "This processes the sequence of information in both directions; forward (left to right/past to future) and backwards (right to left/future to past).\n",
      "\n",
      "\n",
      "\n",
      "This is not backward propagation\n",
      "\n",
      "With regular LSTM input flow can only be processed in one direction, either forward or backwards but fails to fully preserve the information from both directions, but in bidirectional LSTM both past and future information is preserved due to its ability to learn the relationship between future and past words.\n",
      "\n",
      "For example, “Daniel goes to the […..], because he is always sick.”, because of the future sentence, “because he is always sick”, the blank space can easily be predicted as hospital by the BiLSTM model because it has learned the relationship between the future and past words thereby giving more meaning.\n",
      "\n",
      "\n",
      "\n",
      "BiLSTMs are usually made use of where there are needs for sequence-to-sequence tasks.\n",
      "30\n"
     ]
    }
   ],
   "source": [
    "try:\n",
    "    print(spacy_texts)\n",
    "    print(spacy_texts[3])\n",
    "    print(len(spacy_texts))\n",
    "except IndexError as error:\n",
    "    print(f\"{len(spacy_texts)}, please change the chunk_size or change your index\")"
   ]
  },
  {
   "cell_type": "markdown",
   "metadata": {},
   "source": [
    "### **MarkdownTextSplitter**"
   ]
  },
  {
   "cell_type": "code",
   "execution_count": 98,
   "metadata": {},
   "outputs": [],
   "source": [
    "markdown_text = \"\"\"\n",
    "# \n",
    "\n",
    "# Welcome to My Blog!\n",
    "\n",
    "## Introduction\n",
    "Hello everyone! My name is **John Doe** and I am a _software developer_. I specialize in Python, Java, and JavaScript.\n",
    "\n",
    "Here's a list of my favorite programming languages:\n",
    "\n",
    "1. Python\n",
    "2. JavaScript\n",
    "3. Java\n",
    "\n",
    "You can check out some of my projects on [GitHub](https://github.com).\n",
    "\n",
    "## About this Blog\n",
    "In this blog, I will share my journey as a software developer. I'll post tutorials, my thoughts on the latest technology trends, and occasional book reviews.\n",
    "\n",
    "Here's a small piece of Python code to say hello:\n",
    "\n",
    "\\``` python\n",
    "def say_hello(name):\n",
    "    print(f\"Hello, {name}!\")\n",
    "\n",
    "say_hello(\"John\")\n",
    "\\```\n",
    "\n",
    "Stay tuned for more updates!\n",
    "\n",
    "## Contact Me\n",
    "Feel free to reach out to me on [Twitter](https://twitter.com) or send me an email at johndoe@email.com.\n",
    "\n",
    "\"\"\"\n",
    "\n",
    "markdown_splitter = MarkdownTextSplitter(chunk_size=100,chunk_overlap=0)\n",
    "markdown_docs = markdown_splitter.create_documents([markdown_text])\n"
   ]
  },
  {
   "cell_type": "code",
   "execution_count": 109,
   "metadata": {},
   "outputs": [
    {
     "name": "stdout",
     "output_type": "stream",
     "text": [
      "15\n",
      "dict_keys(['page_content', 'metadata', 'type'])\n",
      "Hello everyone! My name is **John Doe** and I am a _software developer_. I specialize in Python,\n",
      "dict_keys([])\n",
      "Document\n"
     ]
    }
   ],
   "source": [
    "# print(markdown_docs)\n",
    "print(len(markdown_docs))\n",
    "print(markdown_docs[2].dict().keys())\n",
    "print(markdown_docs[2].page_content)\n",
    "print(markdown_docs[2].metadata.keys())\n",
    "# print(markdown_docs[2].metadata['source'])\n",
    "print(markdown_docs[2].type)"
   ]
  },
  {
   "cell_type": "markdown",
   "metadata": {},
   "source": [
    "### **TokenTextSplitter**"
   ]
  },
  {
   "cell_type": "markdown",
   "metadata": {},
   "source": [
    "One potential drawback of using `TokenTextSplitter` is that it may require additional computation when converting text to BPE tokens and back. If you need a faster and simpler text-splitting method, you might consider using `CharacterTextSplitter`, which directly splits the text based on character count, offering a more straightforward approach to text segmentation."
   ]
  },
  {
   "cell_type": "code",
   "execution_count": 107,
   "metadata": {},
   "outputs": [
    {
     "name": "stderr",
     "output_type": "stream",
     "text": [
      "Created a chunk of size 1313, which is longer than the specified 1000\n",
      "Created a chunk of size 1254, which is longer than the specified 1000\n",
      "Created a chunk of size 1185, which is longer than the specified 1000\n"
     ]
    }
   ],
   "source": [
    "token_text_splitter = TokenTextSplitter(chunk_size=1000,chunk_overlap=100)\n",
    "token_texts = text_splitter.split_text(my_file)"
   ]
  },
  {
   "cell_type": "code",
   "execution_count": 108,
   "metadata": {},
   "outputs": [
    {
     "name": "stdout",
     "output_type": "stream",
     "text": [
      "['Title:Recurrent Neural Network, LSTM and Bidirectional LSTM\\nArticle:\\nPhoto by GÃ¼lfer ERGÄ°N on Unsplash\\n\\nRecurrent Neural Network, LSTM and Bidirectional LSTM Daniel Chiebuka Ihenacho Â· Follow 4 min read Â· Jan 5, 2023 -- Listen Share\\n\\nRecent innovations in Natural Language Processing have focused on how the context of words can be properly captured in their vector representations. Traditional neural networks cannot do this with high accuracy and for this reason Recurrent neural networks have been developed to address this issue due to the following;\\n\\nUse of sequential information.\\n\\nPresence of memory\\n\\nThe above diagram is a Rolled RNN, where;\\n\\nA is the Rolled neural network\\n\\nis the Rolled neural network xâ\\x82\\x9c is a given input\\n\\nis a given input hâ\\x82\\x9c is the output.\\n\\nis the output. The loop allows information to be passed onto the next step of the network.\\n\\nThe diagram shows the unrolled RNN network', 'The diagram shows the unrolled RNN network\\n\\nThe unrolled RNN is nothing more than multiple copies of the same network, passing information to the next successor. It is because of this chain-like nature of RNN that it can be used for sequential data, a good example of this predicting the next word of a sentence; â\\x80\\x9cThe sky is blueâ\\x80\\x9d, the word predicted is blue.\\n\\nBut what if the context gap between relevant information and point of need is quite large, for example; â\\x80\\x9cDaniel loves apples, it makes him healthy,â\\x80¦..,it is a [â\\x80¦..]â\\x80\\x9d. From the given sentence, the network would depend on the context given in the sentence to make a prediction that the final word will be fruit, based off the previous inputs. But due to this gap, RNNs are unable to learn how to make a connection between the relevant information and the point of need.\\n\\nAs the gap grows, RNN fails\\n\\nRNN Use Case (image by author)\\n\\nLSTM(Long Short Term Memory)', 'As the gap grows, RNN fails\\n\\nRNN Use Case (image by author)\\n\\nLSTM(Long Short Term Memory)\\n\\nThis is a variation of RNN which solves the issue encountered in regular RNN (gap growth). LSTMs generally have three gates namely; input gate, forget gate & output gate. Because of this architecture, LSTM is able to solve the vanishing gradient problem encountered by RNNs which leads to difficulty learning from any given data with each successive iteration and is capable of learning long-term dependencies.\\n\\nTake for example, â\\x80\\x9cDaniel loves apples, it makes him healthy,â\\x80¦..,it is a [â\\x80¦..]â\\x80\\x9d,from the given sentence, the network is able to make a successfully prediction that the final word should be fruit, based off the previous inputs due to the preservation of information.\\n\\nLSTM Use Case (image by author)\\n\\nLSTM can also be used to solve a variety of problems such as;\\n\\nTime series forecasting.\\n\\nSpeech recognition\\n\\nVideo analysis.\\n\\nBidirectional LSTM or BiLSTM', 'Time series forecasting.\\n\\nSpeech recognition\\n\\nVideo analysis.\\n\\nBidirectional LSTM or BiLSTM\\n\\nThis processes the sequence of information in both directions; forward (left to right/past to future) and backwards (right to left/future to past).\\n\\nThis is not backward propagation\\n\\nWith regular LSTM input flow can only be processed in one direction, either forward or backwards but fails to fully preserve the information from both directions, but in bidirectional LSTM both past and future information is preserved due to its ability to learn the relationship between future and past words. For example, â\\x80\\x9cDaniel goes to the [â\\x80¦..], because he is always sick.â\\x80\\x9d, because of the future sentence, â\\x80\\x9cbecause he is always sickâ\\x80\\x9d, the blank space can easily be predicted as hospital by the BiLSTM model because it has learned the relationship between the future and past words thereby giving more meaning.', 'BiLSTMs are usually made use of where there are needs for sequence-to-sequence tasks. This kind of network can also be used in\\n\\nText classification\\n\\nSpeech recognition\\n\\nForecasting models.\\n\\nReferences\\n\\n[1] S. Hochreiter, J. Schmidhuber, Long Short-Term Memory (1997), Neural Computation\\n\\n[2] http://colah.github.io/posts/2015-08-Understanding-LSTMs/\\n\\n[3] https://medium.com/@raghavaggarwal0089/bi-lstm-bc3d68da8bd0\\n\\n[4] https://www.youtube.com/watch?v=YCzL96nL7j0\\n\\n[5] https://www.youtube.com/watch?v=atYPhweJ7ao\\n\\n\\nTitle:Project Initiation\\nArticle:\\nProject initiation phase components\\n\\nLetâ\\x80\\x99s discuss some components of the initiation phase;\\n\\nProject goal: This is simply the overall purpose of the project which aims towards achieving a desired outcome of the project.\\n\\nProject scope: This is involves the definition of work that needs to be done to complete the project. Usually the project scope lays out the series of steps required for the completion of the project.', 'Project deliverables: These are tangible outcomes, results, or outputs that are produced as a result of completing specific project milestones.\\n\\nSuccess criteria: Success criteria in project management are specific and measurable conditions or outcomes that indicate the successful achievement of project goals and objectives.\\n\\nStakeholders: These are people who have an interest in the project, are affected by the project and also influence the project.\\n\\nResources: The involves things such as budget, people and materials needed for the successful completion of a project.\\n\\n\\nTitle:Change Management\\nArticle:\\nChange Management\\n\\nHow change should be properly managed Daniel Chiebuka Ihenacho Â· Follow 4 min read Â· Nov 30, 2023 -- Listen Share\\n\\nPhoto by Possessed Photography on Unsplash', 'Photo by Possessed Photography on Unsplash\\n\\nNo project actually goes as planned, just last week something came up that influenced my scheduling and I had to adapt my timetable for just that week. Change occurs in all facets of other lives and how we manage it matters, because it influences the outcome of any project or task taken up.\\n\\nð\\x9f\\x92¡ Activity 1: Identify some areas or scenarios in which you had to adapt a change towards an desired outcome.\\n\\nWhat is Change management ?\\n\\nThis refers to using an approach and set of processes to effectively plan, implement and control changes within a project. It also involves management of people to achieve the desired outcomes and adopt it.\\n\\nItâ\\x80\\x99s important to recognise that itâ\\x80\\x99s the people in an organisation who are directly impacted by any changes in the workplace.\\n\\nThere several change management models and a few could be found in this links in the reference section.', 'No matter the model used some concepts are vital to change management which are;\\n\\nCreating a sense of ownership and urgency: Ownership and urgency enables team members to take responsibility towards the completion of their tasks and the importance it holds towards the progression of a project. When team members and stakeholders understands this, the progression of a project no matter the problems and hurdles met allow for an easy implementation of change management models.', 'Ownership and urgency enables team members to take responsibility towards the completion of their tasks and the importance it holds towards the progression of a project. When team members and stakeholders understands this, the progression of a project no matter the problems and hurdles met allow for an easy implementation of change management models. Effective communication : Choosing the right personnel is vital towards the project, but sometimes as the project manager, your team is selected for you which means not only your communication but soft skills would be highly needed to connect with each team member in order to keep the project running. Developing a comprehensive strategy for sharing information about the changes to all stakeholders and team members leads to transparency and openness amongst everyone.', 'Choosing the right personnel is vital towards the project, but sometimes as the project manager, your team is selected for you which means not only your communication but soft skills would be highly needed to connect with each team member in order to keep the project running. Developing a comprehensive strategy for sharing information about the changes to all stakeholders and team members leads to transparency and openness amongst everyone. Change readiness: Assessing the organisationâ\\x80\\x99s and individualâ\\x80\\x99s readiness for change, including their willingness and capability to adapt gives the project manager some form of understanding towards the choice of a proper change management model and approach for the completion of any project.', 'Assessing the organisationâ\\x80\\x99s and individualâ\\x80\\x99s readiness for change, including their willingness and capability to adapt gives the project manager some form of understanding towards the choice of a proper change management model and approach for the completion of any project. Stakeholders Engagement: The involvement of key stakeholders throughout the change process ensure their inputs, concerns and support is duly noted. Poor communication with stakeholders concerning the alterations of a project could lead to its failure.\\n\\nThe involvement of key stakeholders throughout the change process ensure their inputs, concerns and support is duly noted. Poor communication with stakeholders concerning the alterations of a project could lead to its failure. Training and Development: Providing necessary training and resources helps individuals to adapt to the changes effectively. This also leads a more organised project and reduces chaos when applying a change in the project.', 'Why and When to implement change management?\\n\\nWhy: Change is inevitable in any project due to evolving requirements, external factors, or unforeseen circumstances. Change management ensures that these changes are implemented smoothly without negatively impacting project goals, timelines, or team morale.\\n\\nWhen: Change management should be integrated from the projectâ\\x80\\x99s initiation and continue throughout its lifecycle. It is crucial during major project milestones, shifts in project scope, or when adapting to external factors.\\n\\n\\nTitle:Project life cycle\\nArticle:\\nWhat is project management methodology?\\n\\nHaving established that not all projects are the same, there is a need to have a predefined set of methods in place for the successful completion of a project. This is where project management methodology comes in.', 'Project management methodology is a set of guiding principles, techniques and processes used through a projectâ\\x80\\x99s life cycle. It essentially guides project managers with knowing which framework works best for a given project at hand.\\n\\nProjects could be linear or iterative. Linear projects means a project is executed in a sequential order. Examples are; the construction of a house, Highway, pipeline and tunnels construction, these kind of projects benefits from the use of the Waterfall methodology as its dictates a linear approach in project execution. It is also referred to as the waterfall cycle because the stages have a distinct progressive flow.', 'Iterative projects permits more flexibility and change management. It follows the repetition of phases thereby allowing parts of the project to be tested out to ensure correctness level is achieved before the final result is delivered. Parts of the project can be delivered as they are completed, rather than waiting for the entire project to be done. It is also known as the agile cycle due to its ability to break down activities into short phases that derive value.\\n\\nOther project types are;\\n\\nHybrid\\n\\nIncremental\\n\\nEvolutionary\\n\\nThere several project methodologies and I would briefly discuss the following below, but please refer to the references for more methodologies;', 'Waterfall: In the application of this approach, project managers connect each task to the previous one with a dependency. This means that teams cannot proceed to the next phase of work until they have successfully addressed the tasks at hand. Such a method encourages collaboration and ensures that the team remains focused on the current task. A project manager might opt for the Waterfall approach under the following circumstances:\\n\\nWhen implementing changes to the project becomes costly once initiated.\\n\\nWhen the projectâ\\x80\\x99s phases are well-defined from the outset.\\n\\nWhen there are prerequisite tasks that must be completed before progressing to the next stage.', 'When there are prerequisite tasks that must be completed before progressing to the next stage.\\n\\n2. Agile: The Agile methodology stands out as one of the widely adopted project management frameworks, even surpassing the popularity of Waterfall. Agile is more than just a set of steps but a mindset. Its focus lies in cultivating an effective and collaborative team that actively seeks regular feedback from the client. Agile, in essence, is a philosophy centered around flexibility, client engagement, and continuous improvement. Projects that are ideally suited for an Agile approach are;\\n\\nThose in which the client possesses a general idea of their requirements but lacks a precise vision or has a set of desired qualities without rigid specifications.\\n\\nWhen the emphasis is on adaptability and the acceptance of a certain level of uncertainty and risk\\n\\nIn scenarios where flexibility and responsiveness to evolving needs are crucial elements of project success.', 'An example of an Agile project is building a website. Your team would construct various components of the website in iterative sprints, delivering each part to the client as it is completed. This enables the launch of the website with fully developed sections, such as the main homepage, ready for public viewing, while other features like the company blog or online appointment booking are continuously developed over time. This iterative delivery model facilitates early feedback from the client, allowing for adjustments along the way and minimising wasted efforts. It ensures that the website evolves organically, aligning with client preferences and requirements.', '3. Scrum: This Agile framework prioritises the development, delivery, and long-term support of complex projects and products through collaboration, accountability, and an iterative process. Small, cross-functional teams, guided by a Scrum Master, handle the work, which is segmented into brief Sprints with predefined deliverables.\\n\\nOther project methodology can be found in the References\\n\\nð\\x9f\\x92¡ Activity 2: List other project management methodologies\\n\\nConclusion\\n\\nIn this article, we were able to establish that not all projects are the same but all project do have a similar life cycle. Moreover, we identified that projects could be linear or iterative and all projects would require a some form of framework(s) used for the successfully completion of the project.\\n\\nReferences\\n\\n\\nTitle:The Effective Project Manager\\nArticle:\\nProject manager core skills', 'References\\n\\n\\nTitle:The Effective Project Manager\\nArticle:\\nProject manager core skills\\n\\nAs you progress in your journey as a project manager, you will most likely work with cross-functional teams â\\x80\\x94 people with different backgrounds, types of expertise and job roles. Therefore, you would be tasked with the duties of clarifying goals, gathering the right team members with the right skills, having a criteria of progress measurement and recognition of efforts.\\n\\nWith that in mind, the question of what core skills are needed for the actualisation of these duties and also responsibilities;', 'Enabling Decision-Making: Enabling decision-making is a core skill that harmonises with the cross-functional skill of clarifying goals. A project manager proficient in decision-making helps articulate clear project objectives, providing a foundation for effective goal clarification. This skill is integral to the duty of planning and organising, as decisions made during project planning directly influence the projectâ\\x80\\x99s roadmap. For instance, in planning a software development project, the project managerâ\\x80\\x99s decision on the choice of programming language directly aligns with the goal of creating an efficient and scalable application having discussed with key stakeholders.', 'Enabling decision-making is a core skill that harmonises with the cross-functional skill of clarifying goals. A project manager proficient in decision-making helps articulate clear project objectives, providing a foundation for effective goal clarification. This skill is integral to the duty of planning and organising, as decisions made during project planning directly influence the projectâ\\x80\\x99s roadmap. For instance, in planning a software development project, the project managerâ\\x80\\x99s decision on the choice of programming language directly aligns with the goal of creating an efficient and scalable application having discussed with key stakeholders. Communicating and Escalating: The core skill of communicating and escalating seamlessly integrates with the cross-functional skill of gathering team members with the right skills. Effective communication ensures that project managers convey the required skills and expertise needed for the project, aligning with the duty of task management. Also a clear definition of the whom to report an issue to is needed to ensure the project is in constant progress. For instance, in a website development project, clear communication about the importance of specific coding skills ensures that the right tasks are assigned to developers with the requisite expertise.', 'The core skill of communicating and escalating seamlessly integrates with the cross-functional skill of gathering team members with the right skills. Effective communication ensures that project managers convey the required skills and expertise needed for the project, aligning with the duty of task management. Also a clear definition of the whom to report an issue to is needed to ensure the project is in constant progress. For instance, in a website development project, clear communication about the importance of specific coding skills ensures that the right tasks are assigned to developers with the requisite expertise. Flexibility: Flexibility as a core skill complements the cross-functional skill of having criteria for progress management. A project managerâ\\x80\\x99s ability to adapt to changing events facilitates the establishment of effective progress management criteria. This flexibility is crucial in task management, as project scope and goals do sometimes change over the course of a project, a project manager must be able to implement change management to be highly flexible in any given project. For example, a project manager overseeing a marketing campaign must be flexible in adjusting strategies based on real-time market responses.', 'Flexibility as a core skill complements the cross-functional skill of having criteria for progress management. A project managerâ\\x80\\x99s ability to adapt to changing events facilitates the establishment of effective progress management criteria. This flexibility is crucial in task management, as project scope and goals do sometimes change over the course of a project, a project manager must be able to implement change management to be highly flexible in any given project. For example, a project manager overseeing a marketing campaign must be flexible in adjusting strategies based on real-time market responses. Strong Organisational Skills: Strong organisational skills connect with the cross-functional skill of recognising efforts within the duty of project execution. A project managerâ\\x80\\x99s organisational prowess ensures that the execution phase proceeds smoothly, and accomplishments are duly acknowledged. In a construction project, strong organisational skills contribute to the seamless coordination of tasks, and when progress milestones are achieved, the project manager can effectively recognise and celebrate the teamâ\\x80\\x99s efforts which thereby boosts the teamsâ\\x80\\x99 morale.', 'ð\\x9f\\x92¡ Activity 3: Try to connect the core skills of a project manager with the cross functional skills and duties and responsibilities. Also give simple examples.\\n\\nConclusion\\n\\nWith the definition of a project manager, the duties and responsibilities could be drawn out. Moreover, the link between the core skills of a project manager could be linked with the cross functional skills, duties and responsibilities of a project manager.\\n\\nNo doubt having these set of skills would make one not only an effective project manager but also an effective leader whom team members would look up to, thereby adding value and impact to an organisation.\\n\\n\\nTitle:What is Project Management?\\nArticle:\\nWhat is Project Management?\\n\\nAn introduction to project management Daniel Chiebuka Ihenacho Â· Follow 4 min read Â· Nov 9, 2023 -- Listen Share\\n\\nPhoto by Octavian Dan on Unsplash\\n\\nWhat is a project?', 'Photo by Octavian Dan on Unsplash\\n\\nWhat is a project?\\n\\nIn the realm of project management, a project is defined as a unique venture, characterised by its sets of deliverables and exclusive objectives. This venture is a defined beginning and an end.\\n\\nExamples of projects can be found in your daily lives or even your workplace;\\n\\nGrocery shopping within a defined timeframe\\n\\nPlanning your vacation\\n\\nPlanning a wedding ceremony\\n\\nOrganising a party/event\\n\\nCompletion of a university task\\n\\nPreparation for an examination to get a suitable score\\n\\nThese are just a few examples about a projects in our daily lives.\\n\\nð\\x9f\\x92¡ Activity 1: Try identifying some activities youâ\\x80\\x99ve done, think about them as projects and analyse how you managed them.\\n\\nWhat is project management?', 'What is project management?\\n\\nProject management involves the application of general/domain knowledge, skills, tools and techniques to fulfil stated project requirements and achieve a desired set of outcomes/results. It is highly significant for businesses as it guarantees that all projects meet its expected outcome both within a designated timeframe and defined budget. The fantastic aspect of project management is its broad application across various industries and types of companies, without the need for deep technical/domain knowledge. This implies that your past job or life experiences can contribute to developing the skills essential for a successful career in project management.\\n\\nAccording to a survey by the Project Management Institute;\\n\\n31% of projects fail to meet an organisationâ\\x80\\x99s goals\\n\\n43% of the projects miss budget targets\\n\\n48% of projects miss delivery dates', '43% of the projects miss budget targets\\n\\n48% of projects miss delivery dates\\n\\nHence, the success of projects, regardless of their scale; big or small, rests significantly on effective project management.\\n\\n\\nTitle:What is Time Series Forecasting?\\nArticle:\\nWhat is Time Series Forecasting?\\n\\nPhoto by Aron Visuals on Unsplash\\n\\nTime series forecasting, the time dependent area of machine learning and data science. Tricky but yet fun to explore.\\n\\nWhat is Time Series?\\n\\nA dataset for machine learning is simply a set of observations. For instance;\\n\\nMachine learning algorithms often presume that your data is independent and uniformly distributed, which isnâ\\x80\\x99t the case with time series data. Time series brings order to the observations with respect with time. This additional dimension serves as a constraint as well as a structure that gives more data.\\n\\nHence, time series is a sequence of observations taken serially in time.\\n\\nâ\\x80\\x94 Page 1, Time Series Analysis: Forecasting and Control.', 'â\\x80\\x94 Page 1, Time Series Analysis: Forecasting and Control.\\n\\nTime Series Nomenclature\\n\\nThe present time is referred to as t, and an observation made at that time is referred to as obs (t). Lag times or lags refer to prior time observations. For example, a prior time is defined as t-1, with obs(t-1) as its observation, and the time before that is specified as t-2, with obs(t-2) as its observation (t-2). The following are the time observations beyond the present time: t+1 and obs(t+1); t+2 and obs(t+2). Below is a summary;\\n\\n(t-n) â\\x86\\x92 prior time\\n\\n(t) â\\x86\\x92 point of reference\\n\\n(t+n) â\\x86\\x92 future/forecast time\\n\\nA Table of Time Series Observations\\n\\nTimes Series Analysis vs. Times Series Forecasting', 'A Table of Time Series Observations\\n\\nTimes Series Analysis vs. Times Series Forecasting\\n\\nTime series analysis entails characterizing the dataset, whereas forecasting entails making predictions. The basic goal of time series analysis is to create mathematical models that provide reasonable descriptions of the dataset, such as meaningful statistics and other properties; forecasting entails utilizing models that have been fitted to historical data to forecast future observations.\\n\\nPredictive modeling can be divided into three (3) categories:\\n\\nData sampling: This involves the collection of data which best describes the problem with known relationships between inputs and outputs. Model training: This involves the use of sampled data to create a model that can be used repeatedly. Predicting: This involves using the trained model on new data for which the output is unknown.\\n\\nTime Series Analysis vs Forecasting\\n\\nComponents of Time Series\\n\\nTime Series Decomposed Components', 'Time Series Analysis vs Forecasting\\n\\nComponents of Time Series\\n\\nTime Series Decomposed Components\\n\\nA given time series can be comprised of systematic and non-systematic components. Systematic components includes: level, trend, and seasonality, while non-systematic component: noise. Systematic components have consistency or repetition which may be modeled and explained whereas non-systematic components cannot directly be modeled.\\n\\nEach of these components can be defined as follows:\\n\\nLevel: Any time series will have a baseline, to which we add different components to form a complete time series. Trend: This is the increasing or decreasing value in the series over time. For example the above time series has an increasing trend. Seasonality: This is the repeating patterns or cycles of behaviour in the series over time. For example the above time series clearly has seasonality. Noise: This is random variation or fluctuations in the time series data.', 'All time series have a level, most have noise, and the trend and seasonality are optional.\\n\\nThe above components can be gotten from the decomposition of a given time series. There are mainly two types of time series decomposition, namely; additive decomposition and multiplicative decomposition.\\n\\nAdditive decomposition is simply the addition of all individual components to get the original time series. For example the above time series is an additive decomposition.\\n\\ny(t) = Level + Trend + Seasonality + Noise\\n\\nMultiplicative decomposition is simply the multiplication of all individual components to get the original time series.\\n\\ny(t) = Level Ã\\x97Trend Ã\\x97Seasonality Ã\\x97 Noise\\n\\nTime series forecasting can be found in many areas, below are a few examples:\\n\\nEach year, forecasting the corn yield in tons per state.\\n\\nPredicting the daily closing price of a stock.\\n\\nPredicting the annual birth rate at all of a cityâ\\x80\\x99s hospitals.\\n\\nPredicting a storeâ\\x80\\x99s product sales in terms of units sold per day.', 'Predicting a storeâ\\x80\\x99s product sales in terms of units sold per day.\\n\\nPredicting the daily number of people passing through a train station.\\n\\nEach quarter, predicting unemployment in a state.\\n\\nPredicting server utilization demand hour by hour.\\n\\nEach breeding season, estimating the number of a stateâ\\x80\\x99s rabbit population.\\n\\nPredicting the average gasoline price in a city on a daily basis.\\n\\nReferences:\\n\\nIn Plain English\\n\\nThank you for being a part of our community! Before you go:']\n",
      "Time series forecasting.\n",
      "\n",
      "Speech recognition\n",
      "\n",
      "Video analysis.\n",
      "\n",
      "Bidirectional LSTM or BiLSTM\n",
      "\n",
      "This processes the sequence of information in both directions; forward (left to right/past to future) and backwards (right to left/future to past).\n",
      "\n",
      "This is not backward propagation\n",
      "\n",
      "With regular LSTM input flow can only be processed in one direction, either forward or backwards but fails to fully preserve the information from both directions, but in bidirectional LSTM both past and future information is preserved due to its ability to learn the relationship between future and past words. For example, âDaniel goes to the [â¦..], because he is always sick.â, because of the future sentence, âbecause he is always sickâ, the blank space can easily be predicted as hospital by the BiLSTM model because it has learned the relationship between the future and past words thereby giving more meaning.\n",
      "32\n"
     ]
    }
   ],
   "source": [
    "try:\n",
    "    print(token_texts)\n",
    "    print(token_texts[3])\n",
    "    print(len(token_texts))\n",
    "except IndexError as error:\n",
    "    print(f\"{len(token_texts)}, please change the chunk_size or change your index\")"
   ]
  },
  {
   "cell_type": "markdown",
   "metadata": {},
   "source": [
    "### **Splitting code**"
   ]
  },
  {
   "cell_type": "code",
   "execution_count": 120,
   "metadata": {},
   "outputs": [
    {
     "data": {
      "text/plain": [
       "['cpp',\n",
       " 'go',\n",
       " 'java',\n",
       " 'kotlin',\n",
       " 'js',\n",
       " 'ts',\n",
       " 'php',\n",
       " 'proto',\n",
       " 'python',\n",
       " 'rst',\n",
       " 'ruby',\n",
       " 'rust',\n",
       " 'scala',\n",
       " 'swift',\n",
       " 'markdown',\n",
       " 'latex',\n",
       " 'html',\n",
       " 'sol',\n",
       " 'csharp',\n",
       " 'cobol',\n",
       " 'c',\n",
       " 'lua',\n",
       " 'perl',\n",
       " 'haskell',\n",
       " 'elixir']"
      ]
     },
     "execution_count": 120,
     "metadata": {},
     "output_type": "execute_result"
    }
   ],
   "source": [
    "# Full list of supported languages\n",
    "[e.value for e in Language]"
   ]
  },
  {
   "cell_type": "code",
   "execution_count": 113,
   "metadata": {},
   "outputs": [],
   "source": [
    "JS_CODE = \"\"\"\n",
    "// Define a function to print a greeting message\n",
    "function helloWorld() {\n",
    "  console.log(\"Hello, World!\");\n",
    "}\n",
    "\n",
    "// Define a function to print a personalized greeting\n",
    "function greet(name) {\n",
    "  console.log(\"Hello, \" + name + \"!\");\n",
    "}\n",
    "\n",
    "// Call the helloWorld function\n",
    "helloWorld();\n",
    "\n",
    "// Call the greet function with different names\n",
    "greet(\"Alice\");\n",
    "greet(\"Bob\");\n",
    "greet(\"Charlie\");\n",
    "\n",
    "// A function to demonstrate a simple arithmetic operation\n",
    "function addNumbers(a, b) {\n",
    "  console.log(\"The sum of \" + a + \" and \" + b + \" is \" + (a + b) + \".\");\n",
    "}\n",
    "\n",
    "// Call the addNumbers function\n",
    "addNumbers(5, 7);\n",
    "addNumbers(10, 20);\n",
    "\n",
    "\"\"\"\n",
    "\n",
    "js_splitter = RecursiveCharacterTextSplitter.from_language(\n",
    "    language=Language.JS, chunk_size=60, chunk_overlap=0\n",
    ")\n",
    "js_docs = js_splitter.create_documents([JS_CODE])"
   ]
  },
  {
   "cell_type": "code",
   "execution_count": 115,
   "metadata": {},
   "outputs": [
    {
     "name": "stdout",
     "output_type": "stream",
     "text": [
      "15\n",
      "dict_keys(['page_content', 'metadata', 'type'])\n",
      "// Define a function to print a personalized greeting\n",
      "dict_keys([])\n",
      "Document\n"
     ]
    }
   ],
   "source": [
    "# print(js_docs)\n",
    "print(len(js_docs))\n",
    "print(js_docs[2].dict().keys())\n",
    "print(js_docs[2].page_content)\n",
    "print(js_docs[2].metadata.keys())\n",
    "# print(js_docs[2].metadata['source'])\n",
    "print(js_docs[2].type)"
   ]
  },
  {
   "cell_type": "code",
   "execution_count": 116,
   "metadata": {},
   "outputs": [],
   "source": [
    "PYTHON_CODE = \"\"\"\n",
    "# Define a function to print a greeting message\n",
    "def hello_world():\n",
    "    print(\"Hello, World!\")\n",
    "\n",
    "# Define a function to print a personalized greeting\n",
    "def greet(name):\n",
    "    print(f\"Hello, {name}!\")\n",
    "\n",
    "# Call the hello_world function\n",
    "hello_world()\n",
    "\n",
    "# Call the greet function with different names\n",
    "greet(\"Alice\")\n",
    "greet(\"Bob\")\n",
    "greet(\"Charlie\")\n",
    "\n",
    "# A function to demonstrate a simple arithmetic operation\n",
    "def add_numbers(a, b):\n",
    "    print(f\"The sum of {a} and {b} is {a + b}.\")\n",
    "\n",
    "# Call the add_numbers function\n",
    "add_numbers(5, 7)\n",
    "add_numbers(10, 20)\n",
    "\n",
    "\n",
    "\"\"\"\n",
    "\n",
    "py_splitter = RecursiveCharacterTextSplitter.from_language(\n",
    "    language=Language.PYTHON, chunk_size=60, chunk_overlap=0\n",
    ")\n",
    "py_docs = py_splitter.create_documents([PYTHON_CODE])"
   ]
  },
  {
   "cell_type": "code",
   "execution_count": 119,
   "metadata": {},
   "outputs": [
    {
     "name": "stdout",
     "output_type": "stream",
     "text": [
      "12\n",
      "dict_keys(['page_content', 'metadata', 'type'])\n",
      "# Define a function to print a personalized greeting\n",
      "dict_keys([])\n",
      "Document\n"
     ]
    }
   ],
   "source": [
    "# print(py_docs)\n",
    "print(len(py_docs))\n",
    "print(py_docs[2].dict().keys())\n",
    "print(py_docs[2].page_content)\n",
    "print(py_docs[2].metadata.keys())\n",
    "# print(py_docs[2].metadata['source'])\n",
    "print(py_docs[2].type)"
   ]
  }
 ],
 "metadata": {
  "kernelspec": {
   "display_name": "Python 3",
   "language": "python",
   "name": "python3"
  },
  "language_info": {
   "codemirror_mode": {
    "name": "ipython",
    "version": 3
   },
   "file_extension": ".py",
   "mimetype": "text/x-python",
   "name": "python",
   "nbconvert_exporter": "python",
   "pygments_lexer": "ipython3",
   "version": "3.11.9"
  }
 },
 "nbformat": 4,
 "nbformat_minor": 2
}

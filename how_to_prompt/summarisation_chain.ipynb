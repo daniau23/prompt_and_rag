{
 "cells": [
  {
   "cell_type": "code",
   "execution_count": 1,
   "metadata": {},
   "outputs": [],
   "source": [
    "from langchain_huggingface import HuggingFaceEndpoint\n",
    "from langchain.prompts import PromptTemplate,FewShotPromptTemplate\n",
    "from langchain.prompts import PromptTemplate\n",
    "from langchain.chains.summarize import load_summarize_chain\n",
    "from langchain.document_loaders import PyPDFLoader"
   ]
  },
  {
   "cell_type": "code",
   "execution_count": 2,
   "metadata": {},
   "outputs": [
    {
     "data": {
      "text/plain": [
       "True"
      ]
     },
     "execution_count": 2,
     "metadata": {},
     "output_type": "execute_result"
    }
   ],
   "source": [
    "from dotenv import load_dotenv\n",
    "import os\n",
    "\n",
    "# Provide the filename as a string\n",
    "load_dotenv('../.env')"
   ]
  },
  {
   "cell_type": "code",
   "execution_count": null,
   "metadata": {},
   "outputs": [],
   "source": [
    "HUGGINGFACEHUB_API_TOKEN = os.getenv(\"HUGGINGFACEHUB_API_TOKEN\")\n",
    "\n",
    "repo_id = \"mistralai/Mistral-7B-Instruct-v0.3\"\n",
    "# repo_id = \"mistralai/Mixtral-8x7B-Instruct-v0.1\"\n",
    "\n",
    "model_kwargs = {\n",
    "    \"max_new_tokens\": 1000, # Maximum tokens to generate\n",
    "    \"max_length\": 10000, # Maximum length of input + output\n",
    "    \"temperature\": 0.3, # Controls randomness of output\n",
    "    \"timeout\": 6000,\n",
    "    # \"task\":'conversational',\n",
    "}\n",
    "\n",
    "\n",
    "llm = HuggingFaceEndpoint(\n",
    "    repo_id=repo_id,\n",
    "    huggingfacehub_api_token = HUGGINGFACEHUB_API_TOKEN,\n",
    "    # you specify the task or not\n",
    "    # You can also specify the task in the model_kwargs or within here\n",
    "    # task = 'conversational',\n",
    "    **model_kwargs,\n",
    ")"
   ]
  },
  {
   "cell_type": "markdown",
   "metadata": {},
   "source": [
    "### **Summarization chain example**"
   ]
  },
  {
   "cell_type": "code",
   "execution_count": 4,
   "metadata": {},
   "outputs": [
    {
     "name": "stdout",
     "output_type": "stream",
     "text": [
      "File path is okay!\n"
     ]
    }
   ],
   "source": [
    "desktop = os.path.expanduser(\"~\\Desktop\")\n",
    "llmai = os.path.join(desktop,\"llmai\")\n",
    "llm = os.path.join(llmai,\"llms\")\n",
    "projects = os.path.join(llm,\"my_llm_projects\")\n",
    "resources = os.path.join(projects,\"resources\")\n",
    "pdf_book = os.path.join(resources,\"deepak-chopra-the-7-laws-of-success.pdf\")\n",
    "\n",
    "if  os.path.exists(pdf_book):\n",
    "    print(\"File path is okay!\")\n",
    "else:\n",
    "    raise ValueError(f\"The file at path {pdf_book} does not exist.\")"
   ]
  },
  {
   "cell_type": "code",
   "execution_count": 5,
   "metadata": {},
   "outputs": [],
   "source": [
    "# Load the document using PyPDFLoader\n",
    "document_loader = PyPDFLoader(pdf_book)\n",
    "document = document_loader.load()"
   ]
  },
  {
   "cell_type": "markdown",
   "metadata": {},
   "source": [
    "**Exploring the document**"
   ]
  },
  {
   "cell_type": "code",
   "execution_count": null,
   "metadata": {},
   "outputs": [],
   "source": [
    "# No problem with the document loader\n",
    "print(document,\"\\n\")\n",
    "print(document[11],\"\\n\")\n",
    "print(document[11].page_content[:100],\"\\n\")\n",
    "print(document[11].metadata,\"\\n\")\n",
    "print(document[11].metadata['page'],\"\\n\")\n",
    "print(document[11].metadata['source'],\"\\n\")"
   ]
  },
  {
   "cell_type": "markdown",
   "metadata": {},
   "source": [
    "### **Using Stuff**"
   ]
  },
  {
   "cell_type": "code",
   "execution_count": null,
   "metadata": {},
   "outputs": [],
   "source": [
    "summarise_chain = load_summarize_chain(llm=llm,chain_type=\"stuff\")\n",
    "print(summarise_chain)"
   ]
  },
  {
   "cell_type": "code",
   "execution_count": null,
   "metadata": {},
   "outputs": [],
   "source": [
    "pages = []\n",
    "for page_number in range(0,21):\n",
    "    pages.append(document[page_number])\n",
    "\n",
    "for page in pages:\n",
    "    print(page)"
   ]
  },
  {
   "cell_type": "code",
   "execution_count": 20,
   "metadata": {},
   "outputs": [],
   "source": [
    "stuff_summary = summarise_chain.invoke(pages)"
   ]
  },
  {
   "cell_type": "code",
   "execution_count": 36,
   "metadata": {},
   "outputs": [
    {
     "name": "stdout",
     "output_type": "stream",
     "text": [
      "stuff_summary:\n",
      "Deepak Chopra's book \"The Seven Spiritual Laws of Success\" outlines seven spiritual laws that can be applied to achieve success and happiness in life. The laws are:\n",
      "\n",
      "1. The Law of Pure Potentiality: Recognizing that we are all part of the same field of pure potentiality and that our true nature is one of pure consciousness, infinite creativity, and joy.\n",
      "2. The Law of Giving: Understanding that giving and receiving are different aspects of the same flow of energy in the universe, and that by giving freely and joyfully, we keep the abundance of the universe circulating in our lives.\n",
      "3. The Law of \"Karma\" or Cause and Effect: Realizing that every action generates a force of energy that returns to us in like kind, and that by making conscious choices that bring happiness and success to ourselves and others, we create positive karma.\n",
      "4. The Law of Least Effort: Learning to harness the forces of harmony, joy, and love to create success and good fortune with effortless ease.\n",
      "5. The Law of Intention and Desire: Understanding that our thoughts and intentions create our reality, and that by focusing our thoughts and intentions on our desires, we can manifest them in the physical world.\n",
      "6. The Law of Detachment: Recognizing that we are not the doer, but rather the observer, and that by detaching ourselves from the outcome of our actions, we can achieve inner peace and fulfillment.\n",
      "7. The Law of \"Dharma\" or Purpose in Life: Discovering our unique purpose in life and aligning our actions with that purpose, in order to live a fulfilling and meaningful life.\n",
      "\n",
      "Chopra encourages readers to apply these laws in their daily lives, and to cultivate a spiritual practice of meditation, silence, and non-judgment in order to access the field of pure potentiality and create the life they desire.\n"
     ]
    }
   ],
   "source": [
    "# print(stuff_summary,\"\\n\")\n",
    "# print(stuff_summary['input_documents'],\"\\n\")\n",
    "print(f\"stuff_summary:\\n{stuff_summary['output_text'].strip()}\")"
   ]
  },
  {
   "cell_type": "markdown",
   "metadata": {},
   "source": [
    "### **Using map reduce**"
   ]
  },
  {
   "cell_type": "code",
   "execution_count": null,
   "metadata": {},
   "outputs": [],
   "source": [
    "summarise_chain = load_summarize_chain(llm=llm,chain_type=\"map_reduce\")\n",
    "print(summarise_chain)"
   ]
  },
  {
   "cell_type": "code",
   "execution_count": 26,
   "metadata": {},
   "outputs": [],
   "source": [
    "map_reduce_summary = summarise_chain.invoke(pages)"
   ]
  },
  {
   "cell_type": "markdown",
   "metadata": {},
   "source": [
    "Token indices sequence length is longer than the specified maximum sequence length for this model (3113 > 1024). Running this sequence through the model will result in indexing errors\n",
    "\n",
    ">By increasing the max length from 5,000 to 10,000, the above warning was avoided"
   ]
  },
  {
   "cell_type": "code",
   "execution_count": 37,
   "metadata": {},
   "outputs": [
    {
     "name": "stdout",
     "output_type": "stream",
     "text": [
      "map_reduce_summary:\n",
      "\"The Seven Spiritual Laws of Success is a book that presents seven universal principles for personal and professional success: The Law of Pure Potentiality, The Law of Giving, The Law of Karma, The Law of Least Effort, The Law of Intention and Desire, The Law of Detachment, and The Law of Dharma. 'The Art of Dreaming' by Carlos Castaneda introduces the Law of Least Effort, a philosophy that encourages acceptance, responsibility, and relinquishment to tap into the universe's true grandeur, reducing effort and increasing productivity.\"\n"
     ]
    }
   ],
   "source": [
    "# print(map_reduce_summary,\"\\n\")\n",
    "# print(map_reduce_summary['input_documents'],\"\\n\")\n",
    "print(f\"map_reduce_summary:\\n{map_reduce_summary['output_text'].strip()}\")"
   ]
  },
  {
   "cell_type": "markdown",
   "metadata": {},
   "source": [
    "### **Using refine**"
   ]
  },
  {
   "cell_type": "code",
   "execution_count": null,
   "metadata": {},
   "outputs": [],
   "source": [
    "summarise_chain = load_summarize_chain(llm=llm,chain_type=\"refine\")\n",
    "print(summarise_chain)"
   ]
  },
  {
   "cell_type": "code",
   "execution_count": 32,
   "metadata": {},
   "outputs": [],
   "source": [
    "refine_summary = summarise_chain.invoke(pages)"
   ]
  },
  {
   "cell_type": "code",
   "execution_count": null,
   "metadata": {},
   "outputs": [],
   "source": [
    "# print(refine_summary,\"\\n\")\n",
    "# print(refine_summary['input_documents'],\"\\n\")\n",
    "print(f\"refine_summary:\\n{refine_summary['output_text'].strip()}\")"
   ]
  },
  {
   "cell_type": "markdown",
   "metadata": {},
   "source": [
    "### **Comparing all methods**"
   ]
  },
  {
   "cell_type": "code",
   "execution_count": 35,
   "metadata": {},
   "outputs": [
    {
     "name": "stdout",
     "output_type": "stream",
     "text": [
      "stuff summary:\n",
      "Deepak Chopra's book \"The Seven Spiritual Laws of Success\" outlines seven spiritual laws that can be applied to achieve success and happiness in life. The laws are:\n",
      "\n",
      "1. The Law of Pure Potentiality: Recognizing that we are all part of the same field of pure potentiality and that our true nature is one of pure consciousness, infinite creativity, and joy.\n",
      "2. The Law of Giving: Understanding that giving and receiving are different aspects of the same flow of energy in the universe, and that by giving freely and joyfully, we keep the abundance of the universe circulating in our lives.\n",
      "3. The Law of \"Karma\" or Cause and Effect: Realizing that every action generates a force of energy that returns to us in like kind, and that by making conscious choices that bring happiness and success to ourselves and others, we create positive karma.\n",
      "4. The Law of Least Effort: Learning to harness the forces of harmony, joy, and love to create success and good fortune with effortless ease.\n",
      "5. The Law of Intention and Desire: Understanding that our thoughts and intentions create our reality, and that by focusing our thoughts and intentions on our desires, we can manifest them in the physical world.\n",
      "6. The Law of Detachment: Recognizing that we are not the doer, but rather the observer, and that by detaching ourselves from the outcome of our actions, we can achieve inner peace and fulfillment.\n",
      "7. The Law of \"Dharma\" or Purpose in Life: Discovering our unique purpose in life and aligning our actions with that purpose, in order to live a fulfilling and meaningful life.\n",
      "\n",
      "Chopra encourages readers to apply these laws in their daily lives, and to cultivate a spiritual practice of meditation, silence, and non-judgment in order to access the field of pure potentiality and create the life they desire.\n",
      "\n",
      "map_reduce summary:\n",
      "\"The Seven Spiritual Laws of Success is a book that presents seven universal principles for personal and professional success: The Law of Pure Potentiality, The Law of Giving, The Law of Karma, The Law of Least Effort, The Law of Intention and Desire, The Law of Detachment, and The Law of Dharma. 'The Art of Dreaming' by Carlos Castaneda introduces the Law of Least Effort, a philosophy that encourages acceptance, responsibility, and relinquishment to tap into the universe's true grandeur, reducing effort and increasing productivity.\"\n",
      "\n",
      "refine summary:\n",
      "The Law of Least Effort, as presented in The Art of Dreaming, is a principle that encourages individuals to do less and accomplish more by adopting three key components: acceptance, responsibility, and defenselessness. Acceptance involves committing to accept people, situations, circumstances, and events as they occur, understanding that they are the culmination of all past moments and a part of the universe's grandeur. By accepting things as they are, individuals can take responsibility for their feelings and situations, viewing problems as opportunities for transformation and growth. Defenselessness, the third component, refers to relinquishing the need to convince or persuade others of one's point of view, which allows for the conservation of energy that would otherwise be wasted on arguments and defenses. By adopting these principles, individuals can navigate their lives with more flexibility, resilience, and creativity, ultimately leading to a more harmonious and fulfilling existence.\n"
     ]
    }
   ],
   "source": [
    "print(f\"stuff summary:\\n{stuff_summary['output_text'].strip()}\\n\")\n",
    "print(f\"map_reduce summary:\\n{map_reduce_summary['output_text'].strip()}\\n\")\n",
    "print(f\"refine summary:\\n{refine_summary['output_text'].strip()}\")"
   ]
  }
 ],
 "metadata": {
  "kernelspec": {
   "display_name": "Python 3",
   "language": "python",
   "name": "python3"
  },
  "language_info": {
   "codemirror_mode": {
    "name": "ipython",
    "version": 3
   },
   "file_extension": ".py",
   "mimetype": "text/x-python",
   "name": "python",
   "nbconvert_exporter": "python",
   "pygments_lexer": "ipython3",
   "version": "3.11.9"
  }
 },
 "nbformat": 4,
 "nbformat_minor": 2
}

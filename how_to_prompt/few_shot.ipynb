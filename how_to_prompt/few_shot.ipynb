{
 "cells": [
  {
   "cell_type": "code",
   "execution_count": 1,
   "metadata": {},
   "outputs": [],
   "source": [
    "# from langchain_community.llms import HuggingFaceEndpoint\n",
    "# the new way\n",
    "from langchain_huggingface import HuggingFaceEndpoint\n",
    "from langchain.prompts import PromptTemplate,FewShotPromptTemplate"
   ]
  },
  {
   "cell_type": "code",
   "execution_count": 2,
   "metadata": {},
   "outputs": [
    {
     "data": {
      "text/plain": [
       "True"
      ]
     },
     "execution_count": 2,
     "metadata": {},
     "output_type": "execute_result"
    }
   ],
   "source": [
    "from dotenv import load_dotenv\n",
    "import os\n",
    "\n",
    "# Provide the filename as a string\n",
    "load_dotenv('../.env')"
   ]
  },
  {
   "cell_type": "code",
   "execution_count": 3,
   "metadata": {},
   "outputs": [
    {
     "name": "stderr",
     "output_type": "stream",
     "text": [
      "WARNING! max_length is not default parameter.\n",
      "                    max_length was transferred to model_kwargs.\n",
      "                    Please make sure that max_length is what you intended.\n",
      "c:\\Users\\DANNY\\Desktop\\llmai\\llm_deep\\Lib\\site-packages\\tqdm\\auto.py:21: TqdmWarning: IProgress not found. Please update jupyter and ipywidgets. See https://ipywidgets.readthedocs.io/en/stable/user_install.html\n",
      "  from .autonotebook import tqdm as notebook_tqdm\n"
     ]
    },
    {
     "name": "stdout",
     "output_type": "stream",
     "text": [
      "The token has not been saved to the git credentials helper. Pass `add_to_git_credential=True` in this function directly or `--add-to-git-credential` if using via `huggingface-cli` if you want to set the git credential as well.\n",
      "Token is valid (permission: read).\n",
      "Your token has been saved to C:\\Users\\DANNY\\.cache\\huggingface\\token\n",
      "Login successful\n"
     ]
    }
   ],
   "source": [
    "HUGGINGFACEHUB_API_TOKEN = os.getenv(\"HUGGINGFACEHUB_API_TOKEN\")\n",
    "\n",
    "repo_id = \"mistralai/Mistral-7B-Instruct-v0.3\"\n",
    "\n",
    "model_kwargs = {\n",
    "    \"max_new_tokens\": 1000, # Maximum tokens to generate\n",
    "    \"max_length\": 5000, # Maximum length of input + output\n",
    "    \"temperature\": 0.1, # Controls randomness of output\n",
    "    \"timeout\": 6000,\n",
    "    # \"task\":'conversational',\n",
    "}\n",
    "\n",
    "\n",
    "llm = HuggingFaceEndpoint(\n",
    "    repo_id=repo_id,\n",
    "    huggingfacehub_api_token = HUGGINGFACEHUB_API_TOKEN,\n",
    "    # you specify the task or not\n",
    "    # You can also specify the task in the model_kwargs or within here\n",
    "    # task = 'conversational',\n",
    "    **model_kwargs,\n",
    ")"
   ]
  },
  {
   "cell_type": "markdown",
   "metadata": {},
   "source": [
    "### **Few-Shot Prompting**"
   ]
  },
  {
   "cell_type": "code",
   "execution_count": 32,
   "metadata": {},
   "outputs": [],
   "source": [
    "examples = [\n",
    "    {\"text\":\"I really don't like him\",\"sentiment\":\"negative\"},\n",
    "    {\"text\":\"I love going on long ways around the park\",\"sentiment\":\"positive\"},\n",
    "    {\"text\":\"Nigeria has been though much hardship\",\"sentiment\":\"negative\"},\n",
    "    {\"text\":\"J.cole is my favourite artist followed by Drake\",\"sentiment\":\"positive\"}\n",
    "]\n",
    "\n",
    "\n",
    "example_formatter_template = \"\"\"\n",
    "Text: {text}\n",
    "Sentiment: {sentiment}\n",
    "\"\"\"\n",
    "\n",
    "example_prompt_input_variables = ['text','sentiment']\n",
    "\n",
    "# Setting up the example prompt template\n",
    "example_prompt_template = PromptTemplate(\n",
    "    input_variables=example_prompt_input_variables,\n",
    "    template=example_formatter_template\n",
    ")\n",
    "\n",
    "# prefix and suffix\n",
    "prefix = \"Here are some examples of text and their associated sentiment\"\n",
    "suffix = \"\"\"\\nNow give the sentiment of the given text by the user, do not explain your answer:\n",
    "Text: {given_text}\n",
    "Sentiment:\"\"\"\n",
    "# fewshot prompt variables\n",
    "few_shot_input_variables = ['given_text']\n",
    "\n",
    "# Few shot prompt varibales\n",
    "few_shot_prompt_template= FewShotPromptTemplate(\n",
    "    examples=examples,\n",
    "    example_prompt=example_prompt_template,\n",
    "    prefix=prefix,\n",
    "    suffix=suffix,\n",
    "    input_variables=few_shot_input_variables,\n",
    "    example_separator=\"\\n\"\n",
    ")"
   ]
  },
  {
   "cell_type": "code",
   "execution_count": 33,
   "metadata": {},
   "outputs": [],
   "source": [
    "# # Some ideas as input\n",
    "# some_ideas = [\n",
    "#     \"Why do we have to do it your way instead of mine, I am not dumb you know?\",\n",
    "#     \"This product has not been functioning for the last two days, I want my refund\",\n",
    "#     \"Why haven't you replied my texts for ten days?\"\n",
    "#     \"She is looking gorgeous day by day\"\n",
    "# ]"
   ]
  },
  {
   "cell_type": "code",
   "execution_count": 39,
   "metadata": {},
   "outputs": [],
   "source": [
    "user_input = input(\"Type here > \")\n",
    "\n",
    "input_data = {\"given_text\": user_input}\n",
    "\n",
    "llm_chain = few_shot_prompt_template | llm\n",
    "\n",
    "response = llm_chain.invoke(input_data)"
   ]
  },
  {
   "cell_type": "code",
   "execution_count": 40,
   "metadata": {},
   "outputs": [
    {
     "name": "stdout",
     "output_type": "stream",
     "text": [
      "given_text: She is looking gorgeous day by day\n",
      "\n",
      "positive\n"
     ]
    }
   ],
   "source": [
    "print(f\"given_text: {input_data['given_text']}\\n\")\n",
    "print(f\"{response.strip()}\")"
   ]
  },
  {
   "cell_type": "code",
   "execution_count": null,
   "metadata": {},
   "outputs": [],
   "source": []
  }
 ],
 "metadata": {
  "kernelspec": {
   "display_name": "Python 3",
   "language": "python",
   "name": "python3"
  },
  "language_info": {
   "codemirror_mode": {
    "name": "ipython",
    "version": 3
   },
   "file_extension": ".py",
   "mimetype": "text/x-python",
   "name": "python",
   "nbconvert_exporter": "python",
   "pygments_lexer": "ipython3",
   "version": "3.11.9"
  }
 },
 "nbformat": 4,
 "nbformat_minor": 2
}

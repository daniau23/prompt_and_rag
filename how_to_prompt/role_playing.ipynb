{
 "cells": [
  {
   "cell_type": "code",
   "execution_count": 5,
   "metadata": {},
   "outputs": [],
   "source": [
    "# from langchain_community.llms import HuggingFaceEndpoint\n",
    "# the new way\n",
    "from langchain_huggingface import HuggingFaceEndpoint\n",
    "from langchain.prompts import PromptTemplate,FewShotPromptTemplate"
   ]
  },
  {
   "cell_type": "code",
   "execution_count": 3,
   "metadata": {},
   "outputs": [
    {
     "data": {
      "text/plain": [
       "True"
      ]
     },
     "execution_count": 3,
     "metadata": {},
     "output_type": "execute_result"
    }
   ],
   "source": [
    "from dotenv import load_dotenv\n",
    "import os\n",
    "\n",
    "# Provide the filename as a string\n",
    "load_dotenv('../.env')"
   ]
  },
  {
   "cell_type": "code",
   "execution_count": 4,
   "metadata": {},
   "outputs": [
    {
     "name": "stderr",
     "output_type": "stream",
     "text": [
      "WARNING! max_length is not default parameter.\n",
      "                    max_length was transferred to model_kwargs.\n",
      "                    Please make sure that max_length is what you intended.\n",
      "c:\\Users\\DANNY\\Desktop\\llmai\\llm_deep\\Lib\\site-packages\\tqdm\\auto.py:21: TqdmWarning: IProgress not found. Please update jupyter and ipywidgets. See https://ipywidgets.readthedocs.io/en/stable/user_install.html\n",
      "  from .autonotebook import tqdm as notebook_tqdm\n"
     ]
    },
    {
     "name": "stdout",
     "output_type": "stream",
     "text": [
      "The token has not been saved to the git credentials helper. Pass `add_to_git_credential=True` in this function directly or `--add-to-git-credential` if using via `huggingface-cli` if you want to set the git credential as well.\n",
      "Token is valid (permission: read).\n",
      "Your token has been saved to C:\\Users\\DANNY\\.cache\\huggingface\\token\n",
      "Login successful\n"
     ]
    }
   ],
   "source": [
    "HUGGINGFACEHUB_API_TOKEN = os.getenv(\"HUGGINGFACEHUB_API_TOKEN\")\n",
    "\n",
    "repo_id = \"mistralai/Mistral-7B-Instruct-v0.3\"\n",
    "\n",
    "model_kwargs = {\n",
    "    \"max_new_tokens\": 1000, # Maximum tokens to generate\n",
    "    \"max_length\": 5000, # Maximum length of input + output\n",
    "    \"temperature\": 0.1, # Controls randomness of output\n",
    "    \"timeout\": 6000,\n",
    "    # \"task\":'conversational',\n",
    "}\n",
    "\n",
    "\n",
    "llm = HuggingFaceEndpoint(\n",
    "    repo_id=repo_id,\n",
    "    huggingfacehub_api_token = HUGGINGFACEHUB_API_TOKEN,\n",
    "    # you specify the task or not\n",
    "    # You can also specify the task in the model_kwargs or within here\n",
    "    # task = 'conversational',\n",
    "    **model_kwargs,\n",
    ")"
   ]
  },
  {
   "cell_type": "markdown",
   "metadata": {},
   "source": [
    "### **Role Playing**"
   ]
  },
  {
   "cell_type": "code",
   "execution_count": 9,
   "metadata": {},
   "outputs": [],
   "source": [
    "# Preparing the prompt\n",
    "prompt_template = \"\"\"\n",
    "As a professional coach and manager in football, I need you to make\\n\n",
    "comprehensive tactic(s) on how to deafeat a team and also give me a title.\n",
    "Give me a tactic on how to defeat {team}.\n",
    "\"\"\"\n",
    "\n",
    "prompt_input_variables = ['team']\n",
    "\n",
    "prompt = PromptTemplate(\n",
    "    input_variables=prompt_input_variables,\n",
    "    template=prompt_template\n",
    ")"
   ]
  },
  {
   "cell_type": "code",
   "execution_count": 12,
   "metadata": {},
   "outputs": [],
   "source": [
    "user_input = input(\"What tactic would you want against a team? \\n>\")\n",
    "\n",
    "input_data = {\"team\": user_input}\n",
    "\n",
    "llm_chain = prompt | llm\n",
    "\n",
    "response = llm_chain.invoke(input_data)"
   ]
  },
  {
   "cell_type": "code",
   "execution_count": 13,
   "metadata": {},
   "outputs": [
    {
     "name": "stdout",
     "output_type": "stream",
     "text": [
      "Team: Liverpool\n",
      "\n",
      "AI-response:\n",
      "\n",
      "Title: \"The Anfield Annihilator: A Counter-Pressing Masterclass\"\n",
      "\n",
      "Tactics:\n",
      "\n",
      "1. Formation: 4-3-3\n",
      "\n",
      "   - Goalkeeper: Alisson Becker (Liverpool's goalkeeper, to understand their style better)\n",
      "   - Defenders: Trent Alexander-Arnold (RB), Virgil van Dijk (CB), Joe Gomez (CB), Andy Robertson (LB)\n",
      "   - Midfielders: Thiago Alcantara (CM), Fabinho (CDM), Georginio Wijnaldum (CM)\n",
      "   - Forwards: Sadio Mane (LW), Roberto Firmino (CF), Mohamed Salah (RW)\n",
      "\n",
      "2. Pressing: High and Intense\n",
      "\n",
      "   - The team should press high up the pitch, aiming to win the ball back immediately after losing it. This will disrupt Liverpool's build-up play and force them into making mistakes.\n",
      "\n",
      "3. Counter-Pressing: Quick Transition\n",
      "\n",
      "   - Once the ball is won back, the team should look to transition quickly into attack. This means moving the ball forward as quickly as possible, with the aim of catching Liverpool's defense out of position and creating scoring opportunities.\n",
      "\n",
      "4. Wide Overloads: Use the Wings\n",
      "\n",
      "   - The team should look to overload Liverpool's wide areas, using the pace and skill of the wingers to get in behind their full-backs and create chances. This will stretch Liverpool's defense and create space for the central midfielders to exploit.\n",
      "\n",
      "5. Central Midfield Control: Dominate the Middle\n",
      "\n",
      "   - The team should look to dominate the central midfield area, using their midfielders to win the ball back and then quickly transition into attack. This will limit Liverpool's ability to build up play and create chances.\n",
      "\n",
      "6. Defensive Solidarity: Be Compact and Organized\n",
      "\n",
      "   - The team should be compact and organized when defending, with the defenders and midfielders working together to close down space and make it difficult for Liverpool to play through. This will force Liverpool to play long balls, which can be dealt with more easily.\n",
      "\n",
      "7. Set Pieces: Aerial Threat\n",
      "\n",
      "   - Liverpool are vulnerable from set pieces, particularly from corners and free kicks. The team should look to exploit this by having a tall, physical presence in the box to win headers and create chances.\n",
      "\n",
      "8. Mental Toughness: Stay Focused and Calm\n",
      "\n",
      "   - Liverpool are known for their ability to come from behind and win games. The team must stay focused and calm, even if they go behind, and continue to play their game. This will increase the chances of a comeback.\n",
      "\n",
      "9. Substitutions: Fresh Legs and Tactical Changes\n",
      "\n",
      "   - The team should be prepared to make tactical substitutions to keep the momentum going and to exploit any weaknesses in Liverpool's defense. This could mean bringing on a fresh striker to provide a new threat up front, or a defensive midfielder to solidify the midfield.\n",
      "\n",
      "10. Game Management: Control the Tempo\n",
      "\n",
      "   - The team should aim to control the tempo of the game, slowing it down when necessary and speeding it up when opportunities arise. This will make it difficult for Liverpool to find their rhythm and create chances.\n",
      "\n",
      "By implementing these tactics, the team will have a good chance of defeating Liverpool and claiming a victory. Good luck!\n"
     ]
    }
   ],
   "source": [
    "print(f\"Team: {input_data['team']}\\n\")\n",
    "print(f\"AI-response:\\n{response}\")"
   ]
  }
 ],
 "metadata": {
  "kernelspec": {
   "display_name": "Python 3",
   "language": "python",
   "name": "python3"
  },
  "language_info": {
   "codemirror_mode": {
    "name": "ipython",
    "version": 3
   },
   "file_extension": ".py",
   "mimetype": "text/x-python",
   "name": "python",
   "nbconvert_exporter": "python",
   "pygments_lexer": "ipython3",
   "version": "3.11.9"
  }
 },
 "nbformat": 4,
 "nbformat_minor": 2
}
